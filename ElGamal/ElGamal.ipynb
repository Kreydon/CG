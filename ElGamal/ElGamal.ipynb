{
 "cells": [
  {
   "cell_type": "code",
   "execution_count": 5,
   "metadata": {},
   "outputs": [],
   "source": [
    "from random import randint\n",
    "from sympy import isprime, mod_inverse"
   ]
  },
  {
   "cell_type": "code",
   "execution_count": 6,
   "metadata": {},
   "outputs": [],
   "source": [
    "def Gen(q, g):\n",
    "    if not isprime(q):\n",
    "        raise ValueError(\"q debe ser un número primo.\")\n",
    "    alpha = randint(2, q - 1)\n",
    "    u = pow(g, alpha, q)\n",
    "    pk = u\n",
    "    sk = alpha\n",
    "    return pk, sk"
   ]
  },
  {
   "cell_type": "code",
   "execution_count": 7,
   "metadata": {},
   "outputs": [],
   "source": [
    "q = 178286657344291\n",
    "g = 10\n",
    "\n",
    "pk, sk = Gen(q, g)"
   ]
  },
  {
   "cell_type": "markdown",
   "metadata": {},
   "source": [
    "# Submensajes"
   ]
  },
  {
   "cell_type": "code",
   "execution_count": 8,
   "metadata": {},
   "outputs": [],
   "source": [
    "def Enc(pk, m, q, g):\n",
    "    if isinstance(m, int):\n",
    "        m = str(m)\n",
    "\n",
    "    # Determinar el tamaño de cada submensaje\n",
    "    k = len(m) // 4\n",
    "    if len(m) % 4 != 0:  # Ajustar si no es un múltiplo exacto de 4\n",
    "        k += 1\n",
    "\n",
    "    # Dividir el mensaje en submensajes\n",
    "    submensajes = [m[i * 4: (i + 1) * 4] for i in range(k)]\n",
    "\n",
    "    resultados = []\n",
    "    for submensaje in submensajes:\n",
    "        # Convertir submensaje a un número entero\n",
    "        submensaje_int = int.from_bytes(submensaje.encode(), 'big')\n",
    "        if not (1 < submensaje_int < q):\n",
    "            raise ValueError(f\"El valor entero del submensaje '{submensaje}' ({submensaje_int}) debe estar en el rango de 1 a q-1.\")\n",
    "        \n",
    "        beta = randint(2, q - 1)\n",
    "        v = pow(g, beta, q)\n",
    "        c = (submensaje_int * pow(pk, beta, q)) % q\n",
    "        resultados.append((beta, v, c))\n",
    "\n",
    "    return resultados"
   ]
  },
  {
   "cell_type": "code",
   "execution_count": 9,
   "metadata": {},
   "outputs": [],
   "source": [
    "# Mensaje a cifrar\n",
    "m = '?Life Is Str@ge='"
   ]
  },
  {
   "cell_type": "code",
   "execution_count": 10,
   "metadata": {},
   "outputs": [
    {
     "name": "stdout",
     "output_type": "stream",
     "text": [
      "(beta_0, v_0, c_0) = (4728055643748, 123068799476540, 103983762358414)\n",
      "(beta_1, v_1, c_1) = (141895486350214, 56349727799875, 158609655351354)\n",
      "(beta_2, v_2, c_2) = (144404213368069, 71308206125449, 13738391959871)\n",
      "(beta_3, v_3, c_3) = (12573070166586, 47267749568761, 152036262108765)\n"
     ]
    }
   ],
   "source": [
    "ci = []\n",
    "# Cifrado del mensaje\n",
    "try:\n",
    "    resultados = Enc(pk, m, q, g)\n",
    "    for i, (beta, v, c) in enumerate(resultados):\n",
    "        print(f\"(beta_{i}, v_{i}, c_{i}) = ({beta}, {v}, {c})\")\n",
    "        ci.append((v, c))\n",
    "except ValueError as e:\n",
    "    print(f\"Error: {e}\")"
   ]
  },
  {
   "cell_type": "code",
   "execution_count": 11,
   "metadata": {},
   "outputs": [],
   "source": [
    "def Dec(sk, ciphers, q):\n",
    "    message_parts = []\n",
    "\n",
    "    for v, c in ciphers:\n",
    "        w = pow(mod_inverse(v, q), sk, q)\n",
    "        m_int = (c * w) % q\n",
    "        try:\n",
    "            # Calculamos el número de bytes a partir del valor máximo esperado en el cifrado\n",
    "            num_bytes = max(1, (m_int.bit_length() + 7) // 8)\n",
    "            m_bytes = m_int.to_bytes(num_bytes, byteorder='big')\n",
    "            m_part = m_bytes.decode('utf-8', errors='ignore')  # Ignorar caracteres no decodificables\n",
    "            message_parts.append(m_part)\n",
    "        except (ValueError, UnicodeDecodeError, OverflowError) as e:\n",
    "            message_parts.append(f\"<cannot decode {m_int}: {str(e)}>\")\n",
    "\n",
    "    return ''.join(message_parts)"
   ]
  },
  {
   "cell_type": "code",
   "execution_count": 12,
   "metadata": {},
   "outputs": [
    {
     "data": {
      "text/plain": [
       "'?Life Is Str@ge='"
      ]
     },
     "execution_count": 12,
     "metadata": {},
     "output_type": "execute_result"
    }
   ],
   "source": [
    "decrypted_message = Dec(sk, ci, q)\n",
    "\n",
    "decrypted_message"
   ]
  },
  {
   "cell_type": "markdown",
   "metadata": {},
   "source": [
    "# Mensaje completo"
   ]
  },
  {
   "cell_type": "code",
   "execution_count": 13,
   "metadata": {},
   "outputs": [],
   "source": [
    "def Gen(alpha, q, g):\n",
    "    if not isprime(q):\n",
    "        raise ValueError(\"q debe ser un número primo.\")\n",
    "    u = pow(g, alpha, q)\n",
    "    pk = u\n",
    "    sk = alpha\n",
    "    return pk, sk"
   ]
  },
  {
   "cell_type": "code",
   "execution_count": 14,
   "metadata": {},
   "outputs": [],
   "source": [
    "alpha = 44235728213098551077425602704492607016359920981613272052626024323091463300482880298541827967837430887576328472751910496011121592139764866532359692545249145346708241664924261327829449535530913639968563645084107647986106025250782392055385273661543061358700959794349801873828534525091734163432712627959693466322\n",
    "p = 164502193028554071572773380673262121890970567103098787083558972687654868443151285432627053033053072000260424623411579165922995742644281638505768536442810062575979476066397674879391609594727231903485090135678243649110521956763797073399979304867490513217414015789052165354717083683136329248045988596838745639543\n",
    "g = 95397605525288378204358698941767152376570780885616886203054870846705451384086811730296287946254767796802429470762715340386221298673197168854676481382299540380875518199684563702117074297547557764819044408561171097263130974134719766490187777579363041095603026258899214230765139858647550712580831085114196512019"
   ]
  },
  {
   "cell_type": "code",
   "execution_count": 15,
   "metadata": {},
   "outputs": [
    {
     "data": {
      "text/plain": [
       "(151158474933645961056109203843546757663499349704994753032344462176590045612277469424010507152938599881054324718700860339186411908384908868449443799062361609175755141536941336196209556949397507910519810299535179497103191237214847709868371078477624111558133485226442862166925545186872364562429628724456449964320,\n",
       " 44235728213098551077425602704492607016359920981613272052626024323091463300482880298541827967837430887576328472751910496011121592139764866532359692545249145346708241664924261327829449535530913639968563645084107647986106025250782392055385273661543061358700959794349801873828534525091734163432712627959693466322)"
      ]
     },
     "execution_count": 15,
     "metadata": {},
     "output_type": "execute_result"
    }
   ],
   "source": [
    "pk, sk = Gen(alpha, p, g)\n",
    "Gen(alpha, p, g)"
   ]
  },
  {
   "cell_type": "code",
   "execution_count": 16,
   "metadata": {},
   "outputs": [],
   "source": [
    "def Enc(pk, m, q, g, beta):\n",
    "    if isinstance(m, int):\n",
    "        m = str(m)\n",
    "\n",
    "    # Convertir el mensaje completo a un número entero\n",
    "    m_int = int.from_bytes(m.encode(), 'big')\n",
    "    if not (1 < m_int < q):\n",
    "        raise ValueError(f\"El valor entero del mensaje '{m}' ({m_int}) debe estar en el rango de 1 a q-1.\")\n",
    "\n",
    "    v = pow(g, beta, q)\n",
    "    c = (m_int * pow(pk, beta, q)) % q\n",
    "\n",
    "    return v, c"
   ]
  },
  {
   "cell_type": "code",
   "execution_count": 17,
   "metadata": {},
   "outputs": [],
   "source": [
    "# Mensaje a cifrar\n",
    "m = 'Life before death. Strength before weakness. Journey before destination.'"
   ]
  },
  {
   "cell_type": "code",
   "execution_count": 18,
   "metadata": {},
   "outputs": [],
   "source": [
    "beta = 1674435797287954221334632204181841546464330290107923623942210552236484222083679006606991338204875162921537505044334242829398146213680515911546561003532481053511340400893917420383849309918369182487491981623929321347161779516300860326491830199554475284283107612032924929697179442226013402267076722291886004976"
   ]
  },
  {
   "cell_type": "code",
   "execution_count": 19,
   "metadata": {},
   "outputs": [
    {
     "name": "stdout",
     "output_type": "stream",
     "text": [
      "v: 137324271447635478843236577542990771979838039824420694674021920547730751754425432321313309992680135519515605301538107016710226681685115428635282089812718284963444098237424833170677882254583336632211906092922856390084574044180218711378866290635852995765592960407861997390351515894469542331753318177126039703612\n",
      "c: 152385699516201214510197269090045156436382590334250371152843210082653800689842726846861192029855516501633488476592129373700810649348816715973725825739986780641546606500453649319868883209011495566645862720015543862738854028605223425278648895645016205980082904785954296959241192245343234216618341378041326876886\n"
     ]
    }
   ],
   "source": [
    "(v, c) = Enc(pk, m, p, g, beta)\n",
    "print(f'v: {v}')\n",
    "print(f'c: {c}')"
   ]
  },
  {
   "cell_type": "code",
   "execution_count": 20,
   "metadata": {},
   "outputs": [],
   "source": [
    "def Dec(sk, vc, q):\n",
    "    (v, c) = vc\n",
    "\n",
    "    w = pow(mod_inverse(v, q), sk, q)\n",
    "    m_int = (c * w) % q\n",
    "    try:\n",
    "        # Calculamos el número de bytes a partir del valor máximo esperado en el cifrado\n",
    "        num_bytes = max(1, (m_int.bit_length() + 7) // 8)\n",
    "        m_bytes = m_int.to_bytes(num_bytes, byteorder='big')\n",
    "        m = m_bytes.decode('utf-8', errors='ignore')  # Ignorar caracteres no decodificables\n",
    "    except (ValueError, UnicodeDecodeError, OverflowError) as e:\n",
    "        m = (f\"<cannot decode {m_int}: {str(e)}>\")\n",
    "\n",
    "    return m"
   ]
  },
  {
   "cell_type": "code",
   "execution_count": 21,
   "metadata": {},
   "outputs": [],
   "source": [
    "v = 68061151581036716434892324158377054048188900523743874908698489105996914990262896768661881977846983773615022889533546058949562336174880904867521755870011084531901642697261435243761191875894067201992544525538048936053049390566477867608723507254180676340229106077392911507852355248583584948033867168598534756719\n",
    "c = 69523011344786145101642032657815987921375318089731095568525610125234911341233953139836192784196094382143519342081211985332724352226158981239211946140210134621812415803764373047141297119036512929506081105143907943930942609377564301739840067655863765775883975776264774278146988355265292896498243587261096438860"
   ]
  },
  {
   "cell_type": "code",
   "execution_count": 22,
   "metadata": {},
   "outputs": [
    {
     "data": {
      "text/plain": [
       "\"There's always another secret.\""
      ]
     },
     "execution_count": 22,
     "metadata": {},
     "output_type": "execute_result"
    }
   ],
   "source": [
    "Dec(sk, (v, c), p)"
   ]
  }
 ],
 "metadata": {
  "kernelspec": {
   "display_name": "El_Gamal",
   "language": "python",
   "name": "python3"
  },
  "language_info": {
   "codemirror_mode": {
    "name": "ipython",
    "version": 3
   },
   "file_extension": ".py",
   "mimetype": "text/x-python",
   "name": "python",
   "nbconvert_exporter": "python",
   "pygments_lexer": "ipython3",
   "version": "3.12.3"
  }
 },
 "nbformat": 4,
 "nbformat_minor": 2
}
