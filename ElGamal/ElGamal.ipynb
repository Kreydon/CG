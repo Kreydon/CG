{
 "cells": [
  {
   "cell_type": "code",
   "execution_count": 41,
   "metadata": {},
   "outputs": [],
   "source": [
    "from random import randint\n",
    "from sympy import isprime, mod_inverse"
   ]
  },
  {
   "cell_type": "code",
   "execution_count": 42,
   "metadata": {},
   "outputs": [],
   "source": [
    "def Gen(q, g):\n",
    "    if not isprime(q):\n",
    "        raise ValueError(\"q debe ser un número primo.\")\n",
    "    alpha = randint(2, q - 1)\n",
    "    u = pow(g, alpha, q)\n",
    "    pk = u\n",
    "    sk = alpha\n",
    "    return pk, sk"
   ]
  },
  {
   "cell_type": "code",
   "execution_count": 43,
   "metadata": {},
   "outputs": [],
   "source": [
    "q = 178286657344291\n",
    "g = 10\n",
    "\n",
    "pk, sk = Gen(q, g)"
   ]
  },
  {
   "cell_type": "code",
   "execution_count": 44,
   "metadata": {},
   "outputs": [],
   "source": [
    "def Enc(pk, m, q, g):\n",
    "    if isinstance(m, int):\n",
    "        m = str(m)\n",
    "\n",
    "    # Determinar el tamaño de cada submensaje\n",
    "    k = len(m) // 4\n",
    "    if len(m) % 4 != 0:  # Ajustar si no es un múltiplo exacto de 4\n",
    "        k += 1\n",
    "\n",
    "    # Dividir el mensaje en submensajes\n",
    "    submensajes = [m[i * 4: (i + 1) * 4] for i in range(k)]\n",
    "\n",
    "    resultados = []\n",
    "    for submensaje in submensajes:\n",
    "        # Convertir submensaje a un número entero\n",
    "        submensaje_int = int.from_bytes(submensaje.encode(), 'big')\n",
    "        if not (1 < submensaje_int < q):\n",
    "            raise ValueError(f\"El valor entero del submensaje '{submensaje}' ({submensaje_int}) debe estar en el rango de 1 a q-1.\")\n",
    "        \n",
    "        beta = randint(2, q - 1)\n",
    "        v = pow(g, beta, q)\n",
    "        c = (submensaje_int * pow(pk, beta, q)) % q\n",
    "        resultados.append((beta, v, c))\n",
    "\n",
    "    return resultados"
   ]
  },
  {
   "cell_type": "code",
   "execution_count": 45,
   "metadata": {},
   "outputs": [],
   "source": [
    "# Mensaje a cifrar\n",
    "m = 6165465351321"
   ]
  },
  {
   "cell_type": "code",
   "execution_count": 46,
   "metadata": {},
   "outputs": [
    {
     "name": "stdout",
     "output_type": "stream",
     "text": [
      "(beta_0, v_0, c_0) = (60822956310375, 168422271627584, 123819775889015)\n",
      "(beta_1, v_1, c_1) = (15496124729927, 27731788952464, 173522398121806)\n",
      "(beta_2, v_2, c_2) = (168371670446859, 159820663732610, 70336172557919)\n",
      "(beta_3, v_3, c_3) = (63502749486559, 82306807139360, 92125716788425)\n"
     ]
    }
   ],
   "source": [
    "ci = []\n",
    "# Cifrado del mensaje\n",
    "try:\n",
    "    resultados = Enc(pk, m, q, g)\n",
    "    for i, (beta, v, c) in enumerate(resultados):\n",
    "        print(f\"(beta_{i}, v_{i}, c_{i}) = ({beta}, {v}, {c})\")\n",
    "        ci.append((v, c))\n",
    "except ValueError as e:\n",
    "    print(f\"Error: {e}\")"
   ]
  },
  {
   "cell_type": "code",
   "execution_count": 47,
   "metadata": {},
   "outputs": [],
   "source": [
    "def Dec(sk, ciphers, q):\n",
    "    message_parts = []\n",
    "\n",
    "    for v, c in ciphers:\n",
    "        w = pow(mod_inverse(v, q), sk, q)\n",
    "        m_int = (c * w) % q\n",
    "        try:\n",
    "            # Calculamos el número de bytes a partir del valor máximo esperado en el cifrado\n",
    "            num_bytes = max(1, (m_int.bit_length() + 7) // 8)\n",
    "            m_bytes = m_int.to_bytes(num_bytes, byteorder='big')\n",
    "            m_part = m_bytes.decode('utf-8', errors='ignore')  # Ignorar caracteres no decodificables\n",
    "            message_parts.append(m_part)\n",
    "        except (ValueError, UnicodeDecodeError, OverflowError) as e:\n",
    "            message_parts.append(f\"<cannot decode {m_int}: {str(e)}>\")\n",
    "\n",
    "    return ''.join(message_parts)"
   ]
  },
  {
   "cell_type": "code",
   "execution_count": 48,
   "metadata": {},
   "outputs": [
    {
     "data": {
      "text/plain": [
       "'6165465351321'"
      ]
     },
     "execution_count": 48,
     "metadata": {},
     "output_type": "execute_result"
    }
   ],
   "source": [
    "decrypted_message = Dec(sk, ci, q)\n",
    "\n",
    "decrypted_message"
   ]
  }
 ],
 "metadata": {
  "kernelspec": {
   "display_name": "El_Gamal",
   "language": "python",
   "name": "python3"
  },
  "language_info": {
   "codemirror_mode": {
    "name": "ipython",
    "version": 3
   },
   "file_extension": ".py",
   "mimetype": "text/x-python",
   "name": "python",
   "nbconvert_exporter": "python",
   "pygments_lexer": "ipython3",
   "version": "3.12.0"
  }
 },
 "nbformat": 4,
 "nbformat_minor": 2
}
