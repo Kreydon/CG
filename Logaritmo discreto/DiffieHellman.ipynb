{
 "cells": [
  {
   "cell_type": "code",
   "execution_count": 6,
   "metadata": {},
   "outputs": [],
   "source": [
    "from math import ceil, sqrt\n",
    "import random\n",
    "from sympy.ntheory import factorint, discrete_log\n",
    "from sympy.ntheory.modular import solve_congruence"
   ]
  },
  {
   "cell_type": "markdown",
   "metadata": {},
   "source": [
    "# Pasos de bebe, pasos de gigante"
   ]
  },
  {
   "cell_type": "code",
   "execution_count": 7,
   "metadata": {},
   "outputs": [],
   "source": [
    "def paso_bebe_paso_gigante_v1(g, y, n):\n",
    "    m = ceil(pow(n, 1/2))\n",
    "    g %= n + 1\n",
    "    y %= n + 1\n",
    "\n",
    "    tabla_hash = [(pow(g, j, n + 1), j) for j in range(m)]\n",
    "    beta = pow(pow(g, -1, n + 1), m, n + 1)\n",
    "    gamma = y\n",
    "    \n",
    "    for i in range(m):\n",
    "        if any(a == gamma for a, _ in tabla_hash):\n",
    "            x = i * m + next(b for a, b in tabla_hash if a == gamma)\n",
    "            print(f'm = {m}\\nix = {i}\\njx = {next(b for a, b in tabla_hash if a == gamma)}\\nx = {x}')\n",
    "            break\n",
    "        gamma = gamma * beta % (n + 1)\n",
    "    else:\n",
    "        x = None\n",
    "\n",
    "    return x"
   ]
  },
  {
   "cell_type": "code",
   "execution_count": 8,
   "metadata": {},
   "outputs": [],
   "source": [
    "def paso_bebe_paso_gigante_v2(\n",
    "            g: int,\n",
    "            y: int,\n",
    "            n: int,\n",
    "            debug_log = False\n",
    "        ) -> int:\n",
    "\n",
    "        m = ceil(sqrt(n))\n",
    "        if debug_log: print(\"m = \", m)\n",
    "\n",
    "        # lookup es una tabla hash para almacenar tuplas (a, b) \\in G X Z\n",
    "        # a es usada como clave indice\n",
    "        lookup = {}\n",
    "\n",
    "        # Computar (g**j, j) para todo 0 <= j <= m\n",
    "        for j in range(m):\n",
    "            lookup[pow(g, j, n)] =  j\n",
    "\n",
    "        b = pow(g, m * (n - 2), n)\n",
    "\n",
    "        _y = y\n",
    "        x = None\n",
    "\n",
    "        # Computar y * (g*{-m})i para i = 0, 1, 2, ... hasta entonces i_x con y * (g{-m})*i_x\n",
    "        for i in range(m):\n",
    "            if _y in lookup:\n",
    "                x = (i * m + lookup[_y]) % n\n",
    "                if debug_log: print(f\"ix = {i} | jx = {lookup[_y]}\")\n",
    "                return x\n",
    "\n",
    "            _y = (_y * b) % n\n",
    "        return x"
   ]
  },
  {
   "cell_type": "code",
   "execution_count": 12,
   "metadata": {},
   "outputs": [
    {
     "name": "stdout",
     "output_type": "stream",
     "text": [
      "m = 55943\n",
      "ix = 5725\n",
      "jx = 1327\n",
      "x = 320275002\n"
     ]
    },
    {
     "data": {
      "text/plain": [
       "320275002"
      ]
     },
     "execution_count": 12,
     "metadata": {},
     "output_type": "execute_result"
    }
   ],
   "source": [
    "p = 3129553951\n",
    "g = 19\n",
    "y = 1132858435\n",
    "n = p - 1\n",
    "\n",
    "paso_bebe_paso_gigante_v1(g, y, n)"
   ]
  },
  {
   "cell_type": "code",
   "execution_count": 13,
   "metadata": {},
   "outputs": [
    {
     "data": {
      "text/plain": [
       "320275002"
      ]
     },
     "execution_count": 13,
     "metadata": {},
     "output_type": "execute_result"
    }
   ],
   "source": [
    "p = 3129553951\n",
    "g = 19\n",
    "y = 1132858435\n",
    "n = p - 1\n",
    "\n",
    "paso_bebe_paso_gigante_v2(g, y, p)"
   ]
  },
  {
   "cell_type": "markdown",
   "metadata": {},
   "source": [
    "# Pollard's Rho"
   ]
  },
  {
   "cell_type": "code",
   "execution_count": null,
   "metadata": {},
   "outputs": [],
   "source": [
    "def MCD(x, y):\n",
    "    if (x < y):\n",
    "        b = x\n",
    "        a = y\n",
    "    else:\n",
    "        a = x\n",
    "        b = y\n",
    "    while (b > 0):\n",
    "        r = a % b\n",
    "        a = b\n",
    "        b = r\n",
    "    return a"
   ]
  },
  {
   "cell_type": "code",
   "execution_count": null,
   "metadata": {},
   "outputs": [],
   "source": [
    "def obtener_valor_binario(alpha):\n",
    "    # Convierte alpha a su representación binaria como cadena de caracteres\n",
    "    binario = bin(alpha)\n",
    "    # Extrae el valor binario eliminando el prefijo '0b' y lo convierte a entero\n",
    "    return int(binario[2:])\n",
    "\n",
    "def fs(alpha, m):\n",
    "    b_alpha = obtener_valor_binario(alpha)\n",
    "    return b_alpha % m"
   ]
  },
  {
   "cell_type": "code",
   "execution_count": null,
   "metadata": {},
   "outputs": [],
   "source": [
    "def almacenar_tabla(g, y, n, m):\n",
    "    R = []\n",
    "    g %= n + 1\n",
    "    y %= n + 1\n",
    "\n",
    "    for _ in range(1, m):\n",
    "        uj = random.randint(0, n-1)\n",
    "        vj = random.randint(0, n-1)\n",
    "        aj = (g**uj * y**vj) % n\n",
    "        R.append((aj, uj, vj))\n",
    "\n",
    "    return R"
   ]
  },
  {
   "cell_type": "code",
   "execution_count": null,
   "metadata": {},
   "outputs": [],
   "source": [
    "def caminata(xab, R, m, n):\n",
    "    x, a, b = xab\n",
    "    j = fs(x, m)\n",
    "    if (j == 0):\n",
    "        return (pow(x, 2, n), (2 * a) % n, (2 * b) % n)\n",
    "    else:\n",
    "        aj, uj, vj = R[j-1]\n",
    "        return (aj * x % n, (a + uj) % n, (b + vj) % n)"
   ]
  },
  {
   "cell_type": "code",
   "execution_count": null,
   "metadata": {},
   "outputs": [],
   "source": [
    "def pollard(g, y, n, m):\n",
    "    R = almacenar_tabla(g, y, n, m)\n",
    "    a0 = random.randint(0, n-1); b0 = random.randint(0, n-1); x0 = pow(g, a0) * pow(y, b0)\n",
    "\n",
    "    (xi, ai, bi) = caminata((x0, a0, b0), R, m, n)\n",
    "    (x2i, a2i, b2i) = caminata(caminata((x0, a0, b0), R, m, n), R, m, n)\n",
    "\n",
    "    while (xi != x2i) :\n",
    "        (xi, ai, bi) = caminata((xi, ai, bi), R, m, n)\n",
    "        (x2i, a2i, b2i) = caminata(caminata((x2i, a2i, b2i), R, m, n), R, m, n)\n",
    "\n",
    "    if (MCD(bi - b2i, n) == 1):\n",
    "        return pow((a2i - ai) * (bi - b2i), -1, n)\n",
    "    else:\n",
    "        return 'Fallo'"
   ]
  },
  {
   "cell_type": "code",
   "execution_count": null,
   "metadata": {},
   "outputs": [
    {
     "data": {
      "text/plain": [
       "'Fallo'"
      ]
     },
     "execution_count": 22,
     "metadata": {},
     "output_type": "execute_result"
    }
   ],
   "source": [
    "g = 2\n",
    "y = 3\n",
    "n = 17\n",
    "m = 5\n",
    "\n",
    "pollard(g, y, n, m)"
   ]
  },
  {
   "cell_type": "markdown",
   "metadata": {},
   "source": [
    "# Pohlig Hellman"
   ]
  },
  {
   "cell_type": "code",
   "execution_count": null,
   "metadata": {},
   "outputs": [],
   "source": [
    "def pohlig_hellman(g, y, p):\n",
    "    \"\"\"\n",
    "    Pohlig-Hellman Algorithm to solve discrete logarithms when the group order is a smooth number.\n",
    "    \n",
    "    Parameters:\n",
    "    g : int\n",
    "        Generator of the group.\n",
    "    y : int\n",
    "        Element of the group for which we are solving the discrete logarithm.\n",
    "    p : int\n",
    "        Order of the group.\n",
    "        \n",
    "    Returns:\n",
    "    x : int\n",
    "        The discrete logarithm of y base g.\n",
    "    \"\"\"\n",
    "    \n",
    "    # Factorize p-1 into prime factors\n",
    "    factors = factorint(p - 1)\n",
    "    # List to hold solutions to congruences\n",
    "    congruences = []\n",
    "    \n",
    "    for q, e in factors.items():\n",
    "        # q^e is the factor of p-1\n",
    "        # Solve the discrete logarithm in the subgroup of order q^e\n",
    "        gq = pow(g, (p - 1) // q**e, p)\n",
    "        yq = pow(y, (p - 1) // q**e, p)\n",
    "        # Compute the discrete logarithm modulo q^e\n",
    "        dq = discrete_log(p, yq, gq, q**e)\n",
    "        # Store the solution to the congruence\n",
    "        congruences.append((dq, q**e))\n",
    "        \n",
    "    # Use the Chinese Remainder Theorem to solve the system of congruences\n",
    "    x, _ = solve_congruence(*congruences)\n",
    "    return x"
   ]
  },
  {
   "cell_type": "code",
   "execution_count": null,
   "metadata": {},
   "outputs": [
    {
     "data": {
      "text/plain": [
       "1134497573"
      ]
     },
     "execution_count": 24,
     "metadata": {},
     "output_type": "execute_result"
    }
   ],
   "source": [
    "# Example to verify the implementation\n",
    "# These values should be adjusted based on the specific problem\n",
    "p = 3129553951\n",
    "g = 19\n",
    "y_example = 212313123 # Element to find log for\n",
    "\n",
    "# Applying Pohlig-Hellman\n",
    "discrete_log_result = pohlig_hellman(g, y_example, p)\n",
    "discrete_log_result"
   ]
  }
 ],
 "metadata": {
  "kernelspec": {
   "display_name": "Python 3",
   "language": "python",
   "name": "python3"
  },
  "language_info": {
   "codemirror_mode": {
    "name": "ipython",
    "version": 3
   },
   "file_extension": ".py",
   "mimetype": "text/x-python",
   "name": "python",
   "nbconvert_exporter": "python",
   "pygments_lexer": "ipython3",
   "version": "3.12.3"
  }
 },
 "nbformat": 4,
 "nbformat_minor": 2
}
