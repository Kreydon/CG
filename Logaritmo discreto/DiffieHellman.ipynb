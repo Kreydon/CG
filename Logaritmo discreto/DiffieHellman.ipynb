{
 "cells": [
  {
   "cell_type": "code",
   "execution_count": 1,
   "metadata": {},
   "outputs": [],
   "source": [
    "from math import ceil\n",
    "import random"
   ]
  },
  {
   "cell_type": "markdown",
   "metadata": {},
   "source": [
    "# Pasos de bebe, pasos de gigante"
   ]
  },
  {
   "cell_type": "code",
   "execution_count": 2,
   "metadata": {},
   "outputs": [],
   "source": [
    "def paso_bebe_paso_gigante(g, y, n):\n",
    "    m = ceil(pow(n, 1/2))\n",
    "    g %= n + 1\n",
    "    y %= n + 1\n",
    "\n",
    "    tabla_hash = [(pow(g, j, n + 1), j) for j in range(m)]\n",
    "    beta = pow(pow(g, -1, n + 1), m, n + 1)\n",
    "    gamma = y\n",
    "    \n",
    "    for i in range(m):\n",
    "        if any(a == gamma for a, _ in tabla_hash):\n",
    "            x = i * m + next(b for a, b in tabla_hash if a == gamma)\n",
    "            print(f'm = {m}\\nix = {i}\\njx = {next(b for a, b in tabla_hash if a == gamma)}\\nx = {x}')\n",
    "            break\n",
    "        gamma = gamma * beta % (n + 1)\n",
    "    else:\n",
    "        x = None\n",
    "\n",
    "    return x"
   ]
  },
  {
   "cell_type": "code",
   "execution_count": 3,
   "metadata": {},
   "outputs": [
    {
     "name": "stdout",
     "output_type": "stream",
     "text": [
      "m = 55943\n",
      "ix = 5725\n",
      "jx = 1327\n",
      "x = 320275002\n"
     ]
    },
    {
     "data": {
      "text/plain": [
       "320275002"
      ]
     },
     "execution_count": 3,
     "metadata": {},
     "output_type": "execute_result"
    }
   ],
   "source": [
    "p = 3129553951\n",
    "g = 19\n",
    "y = 1132858435\n",
    "n = p - 1\n",
    "\n",
    "paso_bebe_paso_gigante(g, y, n)"
   ]
  },
  {
   "cell_type": "markdown",
   "metadata": {},
   "source": [
    "# Pollard's Rho"
   ]
  },
  {
   "cell_type": "code",
   "execution_count": 4,
   "metadata": {},
   "outputs": [],
   "source": [
    "def MCD(x, y):\n",
    "    if (x < y):\n",
    "        b = x\n",
    "        a = y\n",
    "    else:\n",
    "        a = x\n",
    "        b = y\n",
    "    while (b > 0):\n",
    "        r = a % b\n",
    "        a = b\n",
    "        b = r\n",
    "    return a"
   ]
  },
  {
   "cell_type": "code",
   "execution_count": 5,
   "metadata": {},
   "outputs": [],
   "source": [
    "def obtener_valor_binario(alpha):\n",
    "    # Convierte alpha a su representación binaria como cadena de caracteres\n",
    "    binario = bin(alpha)\n",
    "    # Extrae el valor binario eliminando el prefijo '0b' y lo convierte a entero\n",
    "    return int(binario[2:])\n",
    "\n",
    "def fs(alpha, m):\n",
    "    b_alpha = obtener_valor_binario(alpha)\n",
    "    return b_alpha % m"
   ]
  },
  {
   "cell_type": "code",
   "execution_count": 6,
   "metadata": {},
   "outputs": [],
   "source": [
    "def almacenar_tabla(g, y, n, m):\n",
    "    R = []\n",
    "    g %= n + 1\n",
    "    y %= n + 1\n",
    "\n",
    "    for _ in range(1, m):\n",
    "        uj = random.randint(0, n-1)\n",
    "        vj = random.randint(0, n-1)\n",
    "        aj = (g**uj * y**vj) % n\n",
    "        R.append((aj, uj, vj))\n",
    "\n",
    "    return R"
   ]
  },
  {
   "cell_type": "code",
   "execution_count": 7,
   "metadata": {},
   "outputs": [],
   "source": [
    "def caminata(xab, R, m, n):\n",
    "    x, a, b = xab\n",
    "    j = fs(x, m)\n",
    "    if (j == 0):\n",
    "        return (pow(x, 2, n), (2 * a) % n, (2 * b) % n)\n",
    "    else:\n",
    "        aj, uj, vj = R[j-1]\n",
    "        return (aj * x % n, (a + uj) % n, (b + vj) % n)"
   ]
  },
  {
   "cell_type": "code",
   "execution_count": 9,
   "metadata": {},
   "outputs": [],
   "source": [
    "def pollard(g, y, n, m):\n",
    "    R = almacenar_tabla(g, y, n, m)\n",
    "    a0 = random.randint(0, n-1); b0 = random.randint(0, n-1); x0 = pow(g, a0) * pow(y, b0)\n",
    "\n",
    "    (xi, ai, bi) = caminata((x0, a0, b0), R, m, n)\n",
    "    (x2i, a2i, b2i) = caminata(caminata((x0, a0, b0), R, m, n), R, m, n)\n",
    "\n",
    "    while (xi != x2i) :\n",
    "        (xi, ai, bi) = caminata((xi, ai, bi), R, m, n)\n",
    "        (x2i, a2i, b2i) = caminata(caminata((x2i, a2i, b2i), R, m, n), R, m, n)\n",
    "\n",
    "    if (MCD(bi - b2i, n) == 1):\n",
    "        return pow((a2i - ai) * (bi - b2i), -1, n)\n",
    "    else:\n",
    "        return 'Fallo'"
   ]
  },
  {
   "cell_type": "code",
   "execution_count": 24,
   "metadata": {},
   "outputs": [
    {
     "data": {
      "text/plain": [
       "12"
      ]
     },
     "execution_count": 24,
     "metadata": {},
     "output_type": "execute_result"
    }
   ],
   "source": [
    "g = 2\n",
    "y = 3\n",
    "n = 17\n",
    "m = 5\n",
    "\n",
    "pollard(g, y, n, m)"
   ]
  }
 ],
 "metadata": {
  "kernelspec": {
   "display_name": "Python 3",
   "language": "python",
   "name": "python3"
  },
  "language_info": {
   "codemirror_mode": {
    "name": "ipython",
    "version": 3
   },
   "file_extension": ".py",
   "mimetype": "text/x-python",
   "name": "python",
   "nbconvert_exporter": "python",
   "pygments_lexer": "ipython3",
   "version": "3.12.0"
  }
 },
 "nbformat": 4,
 "nbformat_minor": 2
}
