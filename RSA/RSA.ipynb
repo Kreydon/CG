{
 "cells": [
  {
   "cell_type": "code",
   "execution_count": 1,
   "metadata": {},
   "outputs": [],
   "source": [
    "import random"
   ]
  },
  {
   "cell_type": "code",
   "execution_count": 2,
   "metadata": {},
   "outputs": [],
   "source": [
    "def MCD(x, y):\n",
    "    if (x < y):\n",
    "        b = x\n",
    "        a = y\n",
    "    else:\n",
    "        a = x\n",
    "        b = y\n",
    "    while (b > 0):\n",
    "        r = a % b\n",
    "        a = b\n",
    "        b = r\n",
    "    return a"
   ]
  },
  {
   "cell_type": "code",
   "execution_count": 3,
   "metadata": {},
   "outputs": [],
   "source": [
    "def MCDE(x, y):\n",
    "    if (x < y):\n",
    "        r2 = x\n",
    "        r1 = y\n",
    "    else:\n",
    "        r1 = x\n",
    "        r2 = y\n",
    "\n",
    "    s1 = 1\n",
    "    s2 = 0\n",
    "    t1 = 0\n",
    "    t2 = 1\n",
    "\n",
    "    while (r2 != 0):\n",
    "        q = r1 // r2\n",
    "        r = r1 % r2\n",
    "        r1, s1, t1, r2, s2, t2 = r2, s2, t2, r, s1 - s2 * q, t1 - t2 * q\n",
    "\n",
    "    return (r1, s1, t1)"
   ]
  },
  {
   "cell_type": "markdown",
   "metadata": {},
   "source": [
    "## Si no dan p y q"
   ]
  },
  {
   "cell_type": "code",
   "execution_count": 4,
   "metadata": {},
   "outputs": [],
   "source": [
    "def es_primo(n, k=5):\n",
    "    if n <= 1:\n",
    "        return False\n",
    "    if n <= 3:\n",
    "        return True\n",
    "    if n % 2 == 0 or n % 3 == 0:\n",
    "        return False\n",
    "    for _ in range(k):\n",
    "        a = random.randint(2, n - 2)\n",
    "        if pow(a, n - 1, n) != 1:\n",
    "            return False\n",
    "    return True"
   ]
  },
  {
   "cell_type": "code",
   "execution_count": 5,
   "metadata": {},
   "outputs": [],
   "source": [
    "def generar_primo(I, e):\n",
    "    while True:\n",
    "        # Generar un número primo aleatorio de I bits\n",
    "        p = random.getrandbits(I) | (1 << (I - 1)) | 1\n",
    "        \n",
    "        # Verificar si el número generado es primo\n",
    "        if es_primo(p):\n",
    "            # Verificar si mcd(e, p-1) = 1\n",
    "            if MCD(e, p-1) == 1:\n",
    "                return p"
   ]
  },
  {
   "cell_type": "code",
   "execution_count": 6,
   "metadata": {},
   "outputs": [],
   "source": [
    "def Grsa(I, e):\n",
    "    p = generar_primo(I, e)\n",
    "    q = generar_primo(I, e)\n",
    "    n = p * q\n",
    "    d = MCDE(e, (p - 1) * (q - 1))\n",
    "    pk = (n, e)\n",
    "    sk = (n, d)\n",
    "    return (sk, pk)"
   ]
  },
  {
   "cell_type": "markdown",
   "metadata": {},
   "source": [
    "## Si dan p y q"
   ]
  },
  {
   "cell_type": "code",
   "execution_count": 7,
   "metadata": {},
   "outputs": [],
   "source": [
    "def Grsa(I, e):\n",
    "    p = 114030925945987047454712058480378457694475076087566564082811397486658167069467\n",
    "    q = 72305573982007090223813135222531881286173129243195813373713694744350434780059\n",
    "    n = p * q\n",
    "    # d = MCDE(e, (p - 1) * (q - 1))\n",
    "    d = pow(e, -1, (p - 1) * (q - 1))\n",
    "    pk = (n, e)\n",
    "    sk = (n, d)\n",
    "    return (sk, pk)"
   ]
  },
  {
   "cell_type": "code",
   "execution_count": 8,
   "metadata": {},
   "outputs": [
    {
     "name": "stdout",
     "output_type": "stream",
     "text": [
      "pk: (8245071552224338300537003635426687212479215960962094576793151376589388680113921989513721262258972021275639491468017962553755943684958960945352744719358553, 65537)\n",
      "sk: (8245071552224338300537003635426687212479215960962094576793151376589388680113921989513721262258972021275639491468017962553755943684958960945352744719358553, 2851939011815821977430662609083228900005971384394307367766665373085506690716668042757063637258977406086354583786474005202625241238686127200732664541370709)\n"
     ]
    }
   ],
   "source": [
    "# Ejemplo de uso:\n",
    "I = 16  # Número de bits\n",
    "e = 65537   # Exponente\n",
    "(sk, pk) = Grsa(I, e)\n",
    "print(f'pk: {pk}')\n",
    "print(f'sk: {sk}')"
   ]
  },
  {
   "cell_type": "code",
   "execution_count": 9,
   "metadata": {},
   "outputs": [],
   "source": [
    "def Frsa (pk, x):\n",
    "    (n, e) = pk\n",
    "    x %= n\n",
    "    y = pow(x, e, n)\n",
    "    return y"
   ]
  },
  {
   "cell_type": "code",
   "execution_count": 10,
   "metadata": {},
   "outputs": [],
   "source": [
    "x_1 = 5240904144301058065298374552949913011079721627307828052585483319516544499048121193693452669238649316952808494988567831621085863400843090283704825918324294\n",
    "x_2 = 5557292131253177968145806283929509410548113867543546375807984248748651630703539142451903051054308063016107974851048692139866635220333620084806649267836950\n",
    "x_3 = 7887094967805731084177926274714823804842619698510163104231786471458363778381403436378113039215864079605057420831667836649721668630031856726102512182813957"
   ]
  },
  {
   "cell_type": "code",
   "execution_count": 11,
   "metadata": {},
   "outputs": [
    {
     "name": "stdout",
     "output_type": "stream",
     "text": [
      "y_1 = 3692579224434883396131185942374335054528197003435161919595510143358658632023200349009072668599628045517250451479325530899576732698234104006459897125614735\n",
      "y_2 = 3154225082777057646648186062044244151888622320228229613082129643104645195695975565240175142803487252553277175915520210235875650423904111801021978407358584\n",
      "y_3 = 3456845496503217690157127523866644207859679345661895585985114270755497333370224284402500319002134438132209628879636896694800912858206819915245060740672458\n"
     ]
    }
   ],
   "source": [
    "print('y_1 =', Frsa(pk, x_1))\n",
    "print('y_2 =', Frsa(pk, x_2))\n",
    "print('y_3 =', Frsa(pk, x_3))"
   ]
  },
  {
   "cell_type": "code",
   "execution_count": 12,
   "metadata": {},
   "outputs": [],
   "source": [
    "def Irsa (sk, y):\n",
    "    (n, d) = sk\n",
    "    y %= n\n",
    "    x = pow(y, d, n)\n",
    "    return x"
   ]
  },
  {
   "cell_type": "code",
   "execution_count": 13,
   "metadata": {},
   "outputs": [],
   "source": [
    "y_1 = 699936825609555011957440904541516233182071222801462588263148562425577264028512652076132537654900065473011354922793330084845277754170717517090417747953327\n",
    "y_2 = 4747377676122787401760826995560019180665177814097056589825655014005934280877169134902737147137399105304725476122666742176523344870999700461664135355827149"
   ]
  },
  {
   "cell_type": "code",
   "execution_count": 14,
   "metadata": {},
   "outputs": [
    {
     "name": "stdout",
     "output_type": "stream",
     "text": [
      "x_1 = 6593395304645743161421591912438729029897432755320740851469611705426181250852209086416985312676849033783746850395153969410859925288990256336480299811077687\n",
      "x_2 = 7449298975215934430765473142814723312039705780050662168746312032821517485801560840584875914275290777666976164518645912893979978580575971497315635260013491\n"
     ]
    }
   ],
   "source": [
    "print('x_1 =', Irsa(sk, y_1))\n",
    "print('x_2 =', Irsa(sk, y_2))"
   ]
  },
  {
   "cell_type": "code",
   "execution_count": 15,
   "metadata": {},
   "outputs": [],
   "source": [
    "def ataque(pk, y):\n",
    "    xc = random.randint(0, pk[0] - 1)\n",
    "    yc = Frsa(pk, xc)\n",
    "    while (yc != y):\n",
    "        xc = random.randint(0, pk[0] - 1)\n",
    "        yc = Frsa(pk, xc)\n",
    "    return xc"
   ]
  }
 ],
 "metadata": {
  "kernelspec": {
   "display_name": "Python 3",
   "language": "python",
   "name": "python3"
  },
  "language_info": {
   "codemirror_mode": {
    "name": "ipython",
    "version": 3
   },
   "file_extension": ".py",
   "mimetype": "text/x-python",
   "name": "python",
   "nbconvert_exporter": "python",
   "pygments_lexer": "ipython3",
   "version": "3.12.3"
  }
 },
 "nbformat": 4,
 "nbformat_minor": 2
}
