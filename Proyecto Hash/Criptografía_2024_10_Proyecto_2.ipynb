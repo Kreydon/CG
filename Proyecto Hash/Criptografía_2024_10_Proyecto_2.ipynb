{
  "cells": [
    {
      "cell_type": "markdown",
      "metadata": {
        "id": "329uSSwldlcY"
      },
      "source": [
        "## **Enunciado:**\n",
        "El objetivo de este proyecto es intentar recuperar una serie de contraseñas que han sido almacenadas de manera segura utilizando 4 protocolos diferentes listados a continuación:\n",
        "1. Protocolo de almacenamiento de contraseñas versión 1.\n",
        "   - Se almacena `(username, H(password))`.\n",
        "2. Protocolo de almacenamiento de contraseñas versión 2.\n",
        "   - Se almacena `(username, salt, H(password || salt))`.\n",
        "3. Protocolo de almacenamiento de contraseñas versión 3.\n",
        "   - Se almacena `(username, salt, H(password || pepper || salt))`.\n",
        "4. Protocolo de almacenamiento de contraseñas utilizando una PBKDF.\n",
        "   - Se almacena `(username, salt, PBKDF(password, salt, 64, 2 ** 20, H))`.\n",
        "     - `64` es el número de bytes que se obtentrán de la función `PBKDF`.\n",
        "     - `2 ** 20` es la dificultad `d` de la función `PBKDF`.\n",
        "\n",
        "En todos los escenarios anteriores la función hash `H` utilizada fue `SHA3_512` de `Crypto.Hash`. Para el último escenario la función PBKDF utilizada fue `PBKDF2` de `Crypto.Protocol.KDF`.\n",
        "\n",
        "En cada escenario deberán obtener la contraseña para cada uno de los integrantes del grupo de trabajo utilizando como identificador el usuario Uninorte. Para ello, deberán utilizar el **archivo de contraseñas comunes** ([rockyou.txt](https://www.kaggle.com/datasets/wjburns/common-password-list-rockyoutxt)) provisto y la base de datos (archivo de contraseñas) correspondiente.\n",
        "\n",
        "Se recomienda paralelizar el proceso de búsqueda de contraseñas para reducir el tiempo de ejecución."
      ]
    },
    {
      "cell_type": "code",
      "execution_count": 1,
      "metadata": {},
      "outputs": [],
      "source": [
        "from Crypto.Hash import SHA3_512\n",
        "import pandas as pd"
      ]
    },
    {
      "cell_type": "code",
      "execution_count": 2,
      "metadata": {},
      "outputs": [],
      "source": [
        "def cargar_contraseñas(archivo):\n",
        "    \"\"\"Carga las contraseñas desde un archivo de texto y retorna una lista, manejando errores de decodificación.\"\"\"\n",
        "    contraseñas = []\n",
        "    with open(archivo, 'r', encoding='ISO-8859-1') as f:  # abre el archivo en modo binario\n",
        "        for line in f:\n",
        "            contraseñas.append(line.strip())\n",
        "    return contraseñas"
      ]
    },
    {
      "cell_type": "code",
      "execution_count": 3,
      "metadata": {},
      "outputs": [],
      "source": [
        "def cargar_base_de_datos(filepath):\n",
        "    \"\"\"Carga la base de datos de usuarios y contraseñas hash desde un archivo CSV.\"\"\"\n",
        "    return pd.read_csv(filepath)"
      ]
    },
    {
      "cell_type": "code",
      "execution_count": 4,
      "metadata": {},
      "outputs": [],
      "source": [
        "# Carga las contraseñas comunes desde el archivo rockyou.txt\n",
        "contraseñas = cargar_contraseñas('rockyou.txt')"
      ]
    },
    {
      "cell_type": "code",
      "execution_count": 5,
      "metadata": {},
      "outputs": [
        {
          "name": "stdout",
          "output_type": "stream",
          "text": [
            "Total de contraseñas cargadas: 14344391\n"
          ]
        }
      ],
      "source": [
        "print(f\"Total de contraseñas cargadas: {len(contraseñas)}\")"
      ]
    },
    {
      "cell_type": "markdown",
      "metadata": {
        "id": "F2_cl-dT5xl1"
      },
      "source": [
        "## **Caso 1 (Protocolo V.1):**"
      ]
    },
    {
      "cell_type": "code",
      "execution_count": 6,
      "metadata": {},
      "outputs": [],
      "source": [
        "def generar_rainbow_table(contraseñas):\n",
        "    \"\"\"Genera una rainbow hash table usando SHA3_512.\"\"\"\n",
        "    rainbow_table = {}\n",
        "    for contraseña in contraseñas:\n",
        "        hash_obj = SHA3_512.new()\n",
        "        hash_obj.update(contraseña.encode('ISO-8859-1'))\n",
        "        hash_hex = hash_obj.hexdigest()\n",
        "        rainbow_table[hash_hex] = contraseña\n",
        "    return rainbow_table"
      ]
    },
    {
      "cell_type": "code",
      "execution_count": 7,
      "metadata": {},
      "outputs": [],
      "source": [
        "def buscar_hash_usuario(data, username):\n",
        "    \"\"\"Busca el hash de la contraseña para un username específico.\"\"\"\n",
        "    return data[data['username'] == username]['password'].values[0]"
      ]
    },
    {
      "cell_type": "code",
      "execution_count": 8,
      "metadata": {},
      "outputs": [],
      "source": [
        "def buscar_contraseña(hash_hex, rainbow_table):\n",
        "    \"\"\"Busca una contraseña en la rainbow hash table basada en un hash SHA3_512.\"\"\"\n",
        "    return rainbow_table.get(hash_hex, \"Contraseña no encontrada\")"
      ]
    },
    {
      "cell_type": "code",
      "execution_count": 9,
      "metadata": {},
      "outputs": [],
      "source": [
        "def mostrar_contraseña(data_usuarios, usuario, rainbow_table):\n",
        "    # Busca el hash de la contraseña para el usuario\n",
        "    hash_usuario = buscar_hash_usuario(data_usuarios, usuario)\n",
        "\n",
        "    # Busca la contraseña usando el hash encontrado\n",
        "    contraseña_recuperada = buscar_contraseña(hash_usuario, rainbow_table)\n",
        "    print(f\"Contraseña recuperada para {usuario}:\", contraseña_recuperada)"
      ]
    },
    {
      "cell_type": "code",
      "execution_count": 10,
      "metadata": {},
      "outputs": [],
      "source": [
        "# Genera la rainbow hash table\n",
        "rainbow_table = generar_rainbow_table(contraseñas)"
      ]
    },
    {
      "cell_type": "code",
      "execution_count": 12,
      "metadata": {},
      "outputs": [],
      "source": [
        "# Carga el archivo CSV con la base de datos de usernames y contraseñas hash\n",
        "filename = 'password_databases/password_database_v1.csv'\n",
        "data_usuarios = cargar_base_de_datos(filename)"
      ]
    },
    {
      "cell_type": "code",
      "execution_count": 13,
      "metadata": {},
      "outputs": [
        {
          "name": "stdout",
          "output_type": "stream",
          "text": [
            "Contraseña recuperada para jachaverra: drumsdw\n"
          ]
        }
      ],
      "source": [
        "mostrar_contraseña(data_usuarios, 'jachaverra', rainbow_table)"
      ]
    },
    {
      "cell_type": "code",
      "execution_count": 14,
      "metadata": {},
      "outputs": [
        {
          "name": "stdout",
          "output_type": "stream",
          "text": [
            "Contraseña recuperada para apmichelle: 4brylend\n"
          ]
        }
      ],
      "source": [
        "mostrar_contraseña(data_usuarios, 'apmichelle', rainbow_table)"
      ]
    },
    {
      "cell_type": "code",
      "execution_count": 15,
      "metadata": {},
      "outputs": [
        {
          "name": "stdout",
          "output_type": "stream",
          "text": [
            "Contraseña recuperada para alvarobarrios: 4querer0AMAR\n"
          ]
        }
      ],
      "source": [
        "mostrar_contraseña(data_usuarios, 'alvarobarrios', rainbow_table)"
      ]
    },
    {
      "cell_type": "code",
      "execution_count": 16,
      "metadata": {},
      "outputs": [
        {
          "name": "stdout",
          "output_type": "stream",
          "text": [
            "Contraseña recuperada para santiagocadavid: mmh2203\n"
          ]
        }
      ],
      "source": [
        "mostrar_contraseña(data_usuarios, 'santiagocadavid', rainbow_table)"
      ]
    },
    {
      "cell_type": "markdown",
      "metadata": {
        "id": "jGJGnYdY59SQ"
      },
      "source": [
        "## **Caso 2 (Protocolo V.2):**"
      ]
    },
    {
      "cell_type": "code",
      "execution_count": 18,
      "metadata": {
        "id": "_Td3k0xC588_"
      },
      "outputs": [],
      "source": [
        "filename = 'password_databases/password_database_v2.csv'\n",
        "db_v2 = cargar_base_de_datos(filename)"
      ]
    },
    {
      "cell_type": "code",
      "execution_count": 19,
      "metadata": {},
      "outputs": [],
      "source": [
        "\n",
        "# Función para generar el hash SHA3_512 de una contraseña con su salt\n",
        "def hash_contraseña(contraseña, salt):\n",
        "    hash_obj = SHA3_512.new()\n",
        "    hash_obj.update((contraseña).encode('ISO-8859-1') + salt)\n",
        "    return hash_obj.hexdigest()\n",
        "\n",
        "# Función para buscar la contraseña en la base de datos usando el hash y el salt\n",
        "def buscar_contraseña_en_db(db, username, contraseñas_comunes):\n",
        "    user_data = db[db['username'] == username].iloc[0]\n",
        "    salt = user_data['salt']\n",
        "    salt_h = bytes.fromhex(salt)\n",
        "    hash_pw = user_data['password']\n",
        "    for contraseña in contraseñas_comunes:\n",
        "        if hash_contraseña(contraseña, salt_h) == hash_pw:\n",
        "            return contraseña\n",
        "    return \"Contraseña no encontrada.\""
      ]
    },
    {
      "cell_type": "code",
      "execution_count": 20,
      "metadata": {},
      "outputs": [],
      "source": [
        "def mostrar_contraseña(db, usuario, contraseñas):\n",
        "    # Asegúrate de que se cargó correctamente la base de datos y la lista de contraseñas\n",
        "    if db is not None and contraseñas:\n",
        "        # Buscar la contraseña para el usuario 'apmichelle'\n",
        "        contraseña_recuperada = buscar_contraseña_en_db(db, usuario, contraseñas)\n",
        "        print(f\"Contraseña recuperada para {usuario}: {contraseña_recuperada}\")\n",
        "    else:\n",
        "        print(\"No se pudo cargar la base de datos o la lista de contraseñas comunes.\")"
      ]
    },
    {
      "cell_type": "code",
      "execution_count": 21,
      "metadata": {},
      "outputs": [
        {
          "name": "stdout",
          "output_type": "stream",
          "text": [
            "Contraseña recuperada para jachaverra: b-rob04\n"
          ]
        }
      ],
      "source": [
        "mostrar_contraseña(db_v2, 'jachaverra', contraseñas)"
      ]
    },
    {
      "cell_type": "code",
      "execution_count": 24,
      "metadata": {},
      "outputs": [
        {
          "name": "stdout",
          "output_type": "stream",
          "text": [
            "Contraseña recuperada para apmichelle: rodelmar\n"
          ]
        }
      ],
      "source": [
        "mostrar_contraseña(db_v2, 'apmichelle', contraseñas)"
      ]
    },
    {
      "cell_type": "code",
      "execution_count": 25,
      "metadata": {},
      "outputs": [
        {
          "name": "stdout",
          "output_type": "stream",
          "text": [
            "Contraseña recuperada para alvarobarrios: gayeto\n"
          ]
        }
      ],
      "source": [
        "mostrar_contraseña(db_v2, 'alvarobarrios', contraseñas)"
      ]
    },
    {
      "cell_type": "code",
      "execution_count": 26,
      "metadata": {},
      "outputs": [
        {
          "name": "stdout",
          "output_type": "stream",
          "text": [
            "Contraseña recuperada para santiagocadavid: blondejess\n"
          ]
        }
      ],
      "source": [
        "mostrar_contraseña(db_v2, 'santiagocadavid', contraseñas)"
      ]
    },
    {
      "cell_type": "markdown",
      "metadata": {
        "id": "jlfKrwdF6CLf"
      },
      "source": [
        "## **Caso 3 (Protocolo V.3):**"
      ]
    },
    {
      "cell_type": "code",
      "execution_count": 27,
      "metadata": {
        "id": "tGWbmKM96G5O"
      },
      "outputs": [],
      "source": [
        "#filename = 'password_database_v3.csv'"
      ]
    },
    {
      "cell_type": "markdown",
      "metadata": {
        "id": "ZLq5v3Ia6Gmn"
      },
      "source": [
        "## **Caso 4 (Protocolo V.PBKDF):**"
      ]
    },
    {
      "cell_type": "code",
      "execution_count": 28,
      "metadata": {
        "id": "zWE4akG36GbP"
      },
      "outputs": [],
      "source": [
        "#filename = 'password_database_vPBKDF.csv'"
      ]
    }
  ],
  "metadata": {
    "colab": {
      "provenance": []
    },
    "kernelspec": {
      "display_name": "Python 3",
      "name": "python3"
    },
    "language_info": {
      "codemirror_mode": {
        "name": "ipython",
        "version": 3
      },
      "file_extension": ".py",
      "mimetype": "text/x-python",
      "name": "python",
      "nbconvert_exporter": "python",
      "pygments_lexer": "ipython3",
      "version": "3.12.3"
    }
  },
  "nbformat": 4,
  "nbformat_minor": 0
}
