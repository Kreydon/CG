{
  "cells": [
    {
      "cell_type": "markdown",
      "metadata": {
        "id": "4HhZlMCA1Brc"
      },
      "source": [
        "# **${\\Large\\text{Criptografía - Segundo Parcial}}$**\n",
        "\n",
        "![uninorte_logo.jpg](data:image/jpeg;base64,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)\n",
        "\n",
        "---"
      ]
    },
    {
      "cell_type": "markdown",
      "metadata": {
        "id": "SjGSdZxP4sQt"
      },
      "source": [
        "## **Nombre del Estudiante:** Juan Andres Chaverra Demoya\n",
        "## **Código:** 200150715"
      ]
    },
    {
      "cell_type": "markdown",
      "metadata": {
        "id": "1dF0EGFk5zxa"
      },
      "source": [
        "## **Indicaciones:**\n",
        "\n",
        "1. No hay preguntas.\n",
        "2. No altere ni cambie nada del enunciado de su examen, esto podría conllevar a la anulación del mismo.\n",
        "3. Responda de manera clara y concisa todas las preguntas (recuerde emplear el lenguaje apropiado en las respuestas), utilice un cuaderno de Jupyter para ello.\n",
        "4. Una vez finalice el examen envíe, únicamente, el cuaderno de Jupyter con los códigos y las respuestas.\n",
        "5. El examen debe ser desarrollado de manera individual, puede emplear las diapositivas y los códigos desarrollados durante las sesiones de las clases.\n",
        "6. **El examen finalizará a las 6:30 p.m. del 18 de abril del 2024**, después de esto el enlace para enviar el examen se cerrará. Asegúrese de enviar el examen antes de la hora de finalización, no se aceptarán examenes enviados por ningún otro medio."
      ]
    },
    {
      "cell_type": "code",
      "execution_count": 1,
      "metadata": {
        "colab": {
          "base_uri": "https://localhost:8080/"
        },
        "id": "BCmz9KdMRMnh",
        "outputId": "f621a1fc-e1d0-498c-ebc2-59599eb3599c"
      },
      "outputs": [
        {
          "name": "stdout",
          "output_type": "stream",
          "text": [
            "Requirement already satisfied: sympy in c:\\users\\andre\\onedrive\\documentos\\universidad\\(9) noveno\\cg\\venv_cg\\lib\\site-packages (1.12)\n",
            "Requirement already satisfied: mpmath>=0.19 in c:\\users\\andre\\onedrive\\documentos\\universidad\\(9) noveno\\cg\\venv_cg\\lib\\site-packages (from sympy) (1.3.0)\n",
            "Note: you may need to restart the kernel to use updated packages.\n",
            "Collecting pycryptodomeNote: you may need to restart the kernel to use updated packages.\n",
            "\n",
            "  Downloading pycryptodome-3.20.0-cp35-abi3-win_amd64.whl.metadata (3.4 kB)\n",
            "Downloading pycryptodome-3.20.0-cp35-abi3-win_amd64.whl (1.8 MB)\n",
            "   ---------------------------------------- 0.0/1.8 MB ? eta -:--:--\n",
            "   ---------------------------------------- 0.0/1.8 MB ? eta -:--:--\n",
            "    --------------------------------------- 0.0/1.8 MB 435.7 kB/s eta 0:00:04\n",
            "   - -------------------------------------- 0.1/1.8 MB 550.5 kB/s eta 0:00:04\n",
            "   --- ------------------------------------ 0.1/1.8 MB 950.9 kB/s eta 0:00:02\n",
            "   ----- ---------------------------------- 0.2/1.8 MB 1.3 MB/s eta 0:00:02\n",
            "   ----------- ---------------------------- 0.5/1.8 MB 2.1 MB/s eta 0:00:01\n",
            "   ------------- -------------------------- 0.6/1.8 MB 2.2 MB/s eta 0:00:01\n",
            "   ------------------- -------------------- 0.9/1.8 MB 2.6 MB/s eta 0:00:01\n",
            "   ---------------------------- ----------- 1.2/1.8 MB 3.3 MB/s eta 0:00:01\n",
            "   ----------------------------------- ---- 1.5/1.8 MB 3.6 MB/s eta 0:00:01\n",
            "   ---------------------------------------- 1.8/1.8 MB 3.9 MB/s eta 0:00:00\n",
            "Installing collected packages: pycryptodome\n",
            "Successfully installed pycryptodome-3.20.0\n"
          ]
        }
      ],
      "source": [
        "%pip install sympy\n",
        "%pip install pycryptodome"
      ]
    },
    {
      "cell_type": "code",
      "execution_count": 2,
      "metadata": {
        "id": "Yratg8_MRI69"
      },
      "outputs": [],
      "source": [
        "import math\n",
        "import random\n",
        "from random import randint\n",
        "from math import ceil, sqrt\n",
        "from typing import Tuple, List\n",
        "from Crypto.Hash import SHAKE128\n",
        "from sympy import isprime, mod_inverse\n",
        "from sympy.ntheory import factorint, discrete_log\n",
        "from sympy.ntheory.modular import solve_congruence"
      ]
    },
    {
      "cell_type": "markdown",
      "metadata": {
        "id": "BoZKfOg3RoK5"
      },
      "source": [
        "### Funciones miscelaneas"
      ]
    },
    {
      "cell_type": "code",
      "execution_count": 3,
      "metadata": {
        "id": "OT33fD9lRneP"
      },
      "outputs": [],
      "source": [
        "def MCD(x, y):\n",
        "    if (x < y):\n",
        "        b = x\n",
        "        a = y\n",
        "    else:\n",
        "        a = x\n",
        "        b = y\n",
        "    while (b > 0):\n",
        "        r = a % b\n",
        "        a = b\n",
        "        b = r\n",
        "    return a"
      ]
    },
    {
      "cell_type": "code",
      "execution_count": 4,
      "metadata": {
        "id": "eLd4dpfNKRnZ"
      },
      "outputs": [],
      "source": [
        "def inverso_multiplicativo(numero: int, campo: int)->int:\n",
        "    return mod_inverse(numero, campo)"
      ]
    },
    {
      "cell_type": "code",
      "execution_count": 5,
      "metadata": {
        "id": "Fd0NUnoOLYXh"
      },
      "outputs": [],
      "source": [
        "def str_to_int(s: str) -> int:\n",
        "  return int.from_bytes(bytes(s, 'utf-8'), 'big')\n",
        "\n",
        "def int_to_str(i: int) -> str:\n",
        "  size = len(hex(i)[2:]) // 2\n",
        "  return i.to_bytes(size, 'big').decode(\"utf-8\")"
      ]
    },
    {
      "cell_type": "markdown",
      "metadata": {
        "id": "rnJ5Qomq3AD7"
      },
      "source": [
        "---\n",
        "\n",
        "## **(1.0/5.0) Punto 1 - Esquema Trapdoor RSA**"
      ]
    },
    {
      "cell_type": "markdown",
      "metadata": {
        "id": "WJjkmZPuGUh3"
      },
      "source": [
        "1. (0.5/1.0) Dados los valores $p$, $q$ y $e$ calcule (de ser posible) el par de llaves $(p_k, s_k)$ para un esquema Trapdoor RSA:\n",
        "\n",
        "    **Nota:** Cada celda con valores es un caso de prueba (Hay 5 en total)."
      ]
    },
    {
      "cell_type": "markdown",
      "metadata": {
        "id": "gsI3sTaHRahT"
      },
      "source": [
        "### Codigo RSA"
      ]
    },
    {
      "cell_type": "code",
      "execution_count": 6,
      "metadata": {
        "id": "XVA6ju1NRkOa"
      },
      "outputs": [],
      "source": [
        "def Grsa(p, q, e):\n",
        "\n",
        "    if not isprime(p):\n",
        "        raise ValueError(\"p debe ser un número primo.\")\n",
        "\n",
        "    if not isprime(q):\n",
        "        raise ValueError(\"q debe ser un número primo.\")\n",
        "\n",
        "    n = p * q\n",
        "    d = pow(e, -1, (p - 1) * (q - 1))\n",
        "    pk = (n, e)\n",
        "    sk = (n, d)\n",
        "    return (sk, pk)"
      ]
    },
    {
      "cell_type": "code",
      "execution_count": 7,
      "metadata": {
        "id": "MP5X1famR6Yh"
      },
      "outputs": [],
      "source": [
        "def Frsa (pk, x):\n",
        "    (n, e) = pk\n",
        "    x %= n\n",
        "    y = pow(x, e, n)\n",
        "    return y"
      ]
    },
    {
      "cell_type": "code",
      "execution_count": 8,
      "metadata": {
        "id": "TcaYA4KNR7ma"
      },
      "outputs": [],
      "source": [
        "def Irsa (sk, y):\n",
        "    (n, d) = sk\n",
        "    y %= n\n",
        "    x = pow(y, d, n)\n",
        "    return x"
      ]
    },
    {
      "cell_type": "markdown",
      "metadata": {
        "id": "N92MPLmTRiMS"
      },
      "source": [
        "### Resultados"
      ]
    },
    {
      "cell_type": "code",
      "execution_count": 9,
      "metadata": {
        "id": "JuoNMuSzLaDW"
      },
      "outputs": [],
      "source": [
        "# Caso de Prueba 1\n",
        "p = 102102126048317824065924553577456916119565919873414244244233048881467738552899\n",
        "q = 77241541738650712042367219526138773944765059798476911839747089409452893678661\n",
        "e = 65537"
      ]
    },
    {
      "cell_type": "code",
      "execution_count": 10,
      "metadata": {
        "colab": {
          "base_uri": "https://localhost:8080/"
        },
        "id": "KuaYt3pPSEeI",
        "outputId": "c7dccc98-c044-4ec8-b5b9-a6a4aa3bf888"
      },
      "outputs": [
        {
          "name": "stdout",
          "output_type": "stream",
          "text": [
            "pk: (7886525630766117295248388445020314750474006031706067564053791088550885250910329056831452070328751523724509950665654058143647955961832584608906000855988239, 65537)\n",
            "sk: (7886525630766117295248388445020314750474006031706067564053791088550885250910329056831452070328751523724509950665654058143647955961832584608906000855988239, 6175814912134334890358767465506318160872125113343410492619506728344598958786026113939796705511394224742941018717705119059194281427221632513487595284547913)\n"
          ]
        }
      ],
      "source": [
        "(sk, pk) = Grsa(p, q, e)\n",
        "print(f'pk: {pk}')\n",
        "print(f'sk: {sk}')"
      ]
    },
    {
      "cell_type": "code",
      "execution_count": 11,
      "metadata": {
        "id": "W_miOOpmLaAt"
      },
      "outputs": [],
      "source": [
        "# Caso de Prueba 2\n",
        "p = 231640724051553263387379206730037830334681470756723555257553965001045945876483\n",
        "q = 74187946803732457137947078554995352757010604002904587963229521209341658938871\n",
        "e = 65537"
      ]
    },
    {
      "cell_type": "code",
      "execution_count": 12,
      "metadata": {
        "colab": {
          "base_uri": "https://localhost:8080/",
          "height": 298
        },
        "id": "0Segsaf6SvWt",
        "outputId": "4d7a2047-5a76-43a9-f07a-80838228befc"
      },
      "outputs": [
        {
          "ename": "ValueError",
          "evalue": "p debe ser un número primo.",
          "output_type": "error",
          "traceback": [
            "\u001b[1;31m---------------------------------------------------------------------------\u001b[0m",
            "\u001b[1;31mValueError\u001b[0m                                Traceback (most recent call last)",
            "Cell \u001b[1;32mIn[12], line 1\u001b[0m\n\u001b[1;32m----> 1\u001b[0m (sk, pk) \u001b[38;5;241m=\u001b[39m \u001b[43mGrsa\u001b[49m\u001b[43m(\u001b[49m\u001b[43mp\u001b[49m\u001b[43m,\u001b[49m\u001b[43m \u001b[49m\u001b[43mq\u001b[49m\u001b[43m,\u001b[49m\u001b[43m \u001b[49m\u001b[43me\u001b[49m\u001b[43m)\u001b[49m\n\u001b[0;32m      2\u001b[0m \u001b[38;5;28mprint\u001b[39m(\u001b[38;5;124mf\u001b[39m\u001b[38;5;124m'\u001b[39m\u001b[38;5;124mpk: \u001b[39m\u001b[38;5;132;01m{\u001b[39;00mpk\u001b[38;5;132;01m}\u001b[39;00m\u001b[38;5;124m'\u001b[39m)\n\u001b[0;32m      3\u001b[0m \u001b[38;5;28mprint\u001b[39m(\u001b[38;5;124mf\u001b[39m\u001b[38;5;124m'\u001b[39m\u001b[38;5;124msk: \u001b[39m\u001b[38;5;132;01m{\u001b[39;00msk\u001b[38;5;132;01m}\u001b[39;00m\u001b[38;5;124m'\u001b[39m)\n",
            "Cell \u001b[1;32mIn[6], line 4\u001b[0m, in \u001b[0;36mGrsa\u001b[1;34m(p, q, e)\u001b[0m\n\u001b[0;32m      1\u001b[0m \u001b[38;5;28;01mdef\u001b[39;00m \u001b[38;5;21mGrsa\u001b[39m(p, q, e):\n\u001b[0;32m      3\u001b[0m     \u001b[38;5;28;01mif\u001b[39;00m \u001b[38;5;129;01mnot\u001b[39;00m isprime(p):\n\u001b[1;32m----> 4\u001b[0m         \u001b[38;5;28;01mraise\u001b[39;00m \u001b[38;5;167;01mValueError\u001b[39;00m(\u001b[38;5;124m\"\u001b[39m\u001b[38;5;124mp debe ser un número primo.\u001b[39m\u001b[38;5;124m\"\u001b[39m)\n\u001b[0;32m      6\u001b[0m     \u001b[38;5;28;01mif\u001b[39;00m \u001b[38;5;129;01mnot\u001b[39;00m isprime(q):\n\u001b[0;32m      7\u001b[0m         \u001b[38;5;28;01mraise\u001b[39;00m \u001b[38;5;167;01mValueError\u001b[39;00m(\u001b[38;5;124m\"\u001b[39m\u001b[38;5;124mq debe ser un número primo.\u001b[39m\u001b[38;5;124m\"\u001b[39m)\n",
            "\u001b[1;31mValueError\u001b[0m: p debe ser un número primo."
          ]
        }
      ],
      "source": [
        "(sk, pk) = Grsa(p, q, e)\n",
        "print(f'pk: {pk}')\n",
        "print(f'sk: {sk}')"
      ]
    },
    {
      "cell_type": "code",
      "execution_count": null,
      "metadata": {
        "id": "5CV7jpBQLZ9M"
      },
      "outputs": [],
      "source": [
        "# Caso de Prueba 3\n",
        "p = 9061204758109181717095727231450843001581854388881164220792659536731247015185246526817641022568731165975832292576650514962099924121697553088023695305291807\n",
        "q = 8830540930976418097829253808848780264725744328991345671177661762346915519203371924703901566958928019257985587328239875182253176423053741675003390399609157\n",
        "e = 65537"
      ]
    },
    {
      "cell_type": "code",
      "execution_count": null,
      "metadata": {
        "colab": {
          "base_uri": "https://localhost:8080/"
        },
        "id": "7ZgDrX8XSv2u",
        "outputId": "3aa046b8-ceb3-4b9b-8e3c-e5336ae6fa12"
      },
      "outputs": [
        {
          "name": "stdout",
          "output_type": "stream",
          "text": [
            "pk: (80015339500441402875575851134296784350624626471863110155047813530025110677544513147267838307525477306026677228900175870876490322000256861212211462465517099240370513601449447170491929914815765055262738045563075469761249358072273678970238846210631780875538711049834173793631545233355377866937341198246634276699, 65537)\n",
            "sk: (80015339500441402875575851134296784350624626471863110155047813530025110677544513147267838307525477306026677228900175870876490322000256861212211462465517099240370513601449447170491929914815765055262738045563075469761249358072273678970238846210631780875538711049834173793631545233355377866937341198246634276699, 22947164287513864947227491677512062832750810298589608242124657144770464854730139075680898133725091871260072913273094671607239202313118203556517912584332415947440431767938627615764791954430978133914357678144171748355491791063117780218225472132319974200853923807537428994864307636058861229664193611654022424233)\n"
          ]
        }
      ],
      "source": [
        "(sk, pk) = Grsa(p, q, e)\n",
        "print(f'pk: {pk}')\n",
        "print(f'sk: {sk}')"
      ]
    },
    {
      "cell_type": "code",
      "execution_count": null,
      "metadata": {
        "id": "GQyZ-KR7LZ5c"
      },
      "outputs": [],
      "source": [
        "# Caso de Prueba 4\n",
        "p = 162297275530127459380225823747269160183663138631439733024349801572501535559463426911511541080248939210243973201454580747849628918303820892570832813915524929333050002776392261703709950109429717758433522760486561696976260972652207903640041409456370094486643517230070092349416537947447863407351426054920138762043\n",
        "q = 117356774663291094243032004459925194252973055129341475759513649494438182587746725412823004454759404785912749662477685098943384283776780641061534696885773705517658802859648595345850592897686759579008970400620775852969724071347418277181230593772539036125535701570585316241319280880595038684813132677564614012741\n",
        "e = 65537"
      ]
    },
    {
      "cell_type": "code",
      "execution_count": null,
      "metadata": {
        "colab": {
          "base_uri": "https://localhost:8080/"
        },
        "id": "js0t61KjSwiJ",
        "outputId": "42a1e567-cd6e-4468-b108-18c7a82b149a"
      },
      "outputs": [
        {
          "name": "stdout",
          "output_type": "stream",
          "text": [
            "pk: (19046684792855235920720446748694293352748336371235658538704737381465483531399942564398013333313080654500399492843924218090766000372377502725337934365097596244600943129190739174066045044218969507617545712545999142372764339543470237333260083786124465335249805377104770776284171346920329346156017647704155516770058449934159612272626638712856983995873140896885799269063537995920563880556012459380759106416060942180075370311729121247941131883636960131904140236228893093410087069214436142926822755773443791478397305165842373186190797078054569351600981035227437099561143302876263230199635218019763067840689171840634369189863, 65537)\n",
            "sk: (19046684792855235920720446748694293352748336371235658538704737381465483531399942564398013333313080654500399492843924218090766000372377502725337934365097596244600943129190739174066045044218969507617545712545999142372764339543470237333260083786124465335249805377104770776284171346920329346156017647704155516770058449934159612272626638712856983995873140896885799269063537995920563880556012459380759106416060942180075370311729121247941131883636960131904140236228893093410087069214436142926822755773443791478397305165842373186190797078054569351600981035227437099561143302876263230199635218019763067840689171840634369189863, 8299375583709461406350821639722033893440869154117165889341763971535313078202971753536385045995722176031370192671985960541648300542197298401322541337932649586600990782921097068736805900907290724766685275694281055109923115863449342623646309911658396883878247282511877856147627769870513528818490256885233823525559196698939875093971032362222012646146486180434581087742903489286737952697074438601252974427883776284208383282218209556290138779455955147334284659353278528969592216198608941190426431023208403038333255510920829648355022311923142837297345786758349683526489881272367251501981173119275413480638683133640975265353)\n"
          ]
        }
      ],
      "source": [
        "(sk, pk) = Grsa(p, q, e)\n",
        "print(f'pk: {pk}')\n",
        "print(f'sk: {sk}')"
      ]
    },
    {
      "cell_type": "code",
      "execution_count": null,
      "metadata": {
        "id": "15FgzhOkTE3Q"
      },
      "outputs": [],
      "source": [
        "# Caso de Prueba 5\n",
        "p = 26828712519563923256944081392435882266431113366062177422351224648937030660105968064130599604715760442951140550645523514409049941173886352518264849600348163\n",
        "q = 11556599370391988379751300728930696670578256283757066927141192990054003477718348307983981255288019110586938777281850713951539418740117045962924166646705011\n",
        "e = 65537"
      ]
    },
    {
      "cell_type": "code",
      "execution_count": null,
      "metadata": {
        "colab": {
          "base_uri": "https://localhost:8080/",
          "height": 298
        },
        "id": "Gev_wno8SxQ2",
        "outputId": "566506ae-2502-4d20-c824-f94f05290651"
      },
      "outputs": [
        {
          "ename": "ValueError",
          "evalue": "p debe ser un número primo.",
          "output_type": "error",
          "traceback": [
            "\u001b[0;31m---------------------------------------------------------------------------\u001b[0m",
            "\u001b[0;31mValueError\u001b[0m                                Traceback (most recent call last)",
            "\u001b[0;32m<ipython-input-267-1990edefec00>\u001b[0m in \u001b[0;36m<cell line: 1>\u001b[0;34m()\u001b[0m\n\u001b[0;32m----> 1\u001b[0;31m \u001b[0;34m(\u001b[0m\u001b[0msk\u001b[0m\u001b[0;34m,\u001b[0m \u001b[0mpk\u001b[0m\u001b[0;34m)\u001b[0m \u001b[0;34m=\u001b[0m \u001b[0mGrsa\u001b[0m\u001b[0;34m(\u001b[0m\u001b[0mp\u001b[0m\u001b[0;34m,\u001b[0m \u001b[0mq\u001b[0m\u001b[0;34m,\u001b[0m \u001b[0me\u001b[0m\u001b[0;34m)\u001b[0m\u001b[0;34m\u001b[0m\u001b[0;34m\u001b[0m\u001b[0m\n\u001b[0m\u001b[1;32m      2\u001b[0m \u001b[0mprint\u001b[0m\u001b[0;34m(\u001b[0m\u001b[0;34mf'pk: {pk}'\u001b[0m\u001b[0;34m)\u001b[0m\u001b[0;34m\u001b[0m\u001b[0;34m\u001b[0m\u001b[0m\n\u001b[1;32m      3\u001b[0m \u001b[0mprint\u001b[0m\u001b[0;34m(\u001b[0m\u001b[0;34mf'sk: {sk}'\u001b[0m\u001b[0;34m)\u001b[0m\u001b[0;34m\u001b[0m\u001b[0;34m\u001b[0m\u001b[0m\n",
            "\u001b[0;32m<ipython-input-260-90a5dcc48712>\u001b[0m in \u001b[0;36mGrsa\u001b[0;34m(p, q, e)\u001b[0m\n\u001b[1;32m      2\u001b[0m \u001b[0;34m\u001b[0m\u001b[0m\n\u001b[1;32m      3\u001b[0m     \u001b[0;32mif\u001b[0m \u001b[0;32mnot\u001b[0m \u001b[0misprime\u001b[0m\u001b[0;34m(\u001b[0m\u001b[0mp\u001b[0m\u001b[0;34m)\u001b[0m\u001b[0;34m:\u001b[0m\u001b[0;34m\u001b[0m\u001b[0;34m\u001b[0m\u001b[0m\n\u001b[0;32m----> 4\u001b[0;31m         \u001b[0;32mraise\u001b[0m \u001b[0mValueError\u001b[0m\u001b[0;34m(\u001b[0m\u001b[0;34m\"p debe ser un número primo.\"\u001b[0m\u001b[0;34m)\u001b[0m\u001b[0;34m\u001b[0m\u001b[0;34m\u001b[0m\u001b[0m\n\u001b[0m\u001b[1;32m      5\u001b[0m \u001b[0;34m\u001b[0m\u001b[0m\n\u001b[1;32m      6\u001b[0m     \u001b[0;32mif\u001b[0m \u001b[0;32mnot\u001b[0m \u001b[0misprime\u001b[0m\u001b[0;34m(\u001b[0m\u001b[0mq\u001b[0m\u001b[0;34m)\u001b[0m\u001b[0;34m:\u001b[0m\u001b[0;34m\u001b[0m\u001b[0;34m\u001b[0m\u001b[0m\n",
            "\u001b[0;31mValueError\u001b[0m: p debe ser un número primo."
          ]
        }
      ],
      "source": [
        "(sk, pk) = Grsa(p, q, e)\n",
        "print(f'pk: {pk}')\n",
        "print(f'sk: {sk}')\n"
      ]
    },
    {
      "cell_type": "markdown",
      "metadata": {
        "id": "55H3VRWuPuuk"
      },
      "source": [
        "2. (0.3/1.0) Utilizando los siguientes valores de $p$, $q$ y $e$ calcule $y_i = F_{RSA}(p_k, x_i)$ para los valores de $x_i$ dados."
      ]
    },
    {
      "cell_type": "code",
      "execution_count": null,
      "metadata": {
        "id": "xiRsLdNG0X-k"
      },
      "outputs": [],
      "source": [
        "p = 9061204758109181717095727231450843001581854388881164220792659536731247015185246526817641022568731165975832292576650514962099924121697553088023695305291807\n",
        "q = 8830540930976418097829253808848780264725744328991345671177661762346915519203371924703901566958928019257985587328239875182253176423053741675003390399609157\n",
        "e = 65537"
      ]
    },
    {
      "cell_type": "code",
      "execution_count": null,
      "metadata": {
        "id": "U71C6dnwTB9E"
      },
      "outputs": [],
      "source": [
        "(sk, pk) = Grsa(p, q, e)"
      ]
    },
    {
      "cell_type": "code",
      "execution_count": null,
      "metadata": {
        "id": "g2mbjetJ1aJL"
      },
      "outputs": [],
      "source": [
        "x_1 = 11099940199340803754074947933644310974073676975790838173799013128262530532347278282670397602119060126071517439050588291847225905862110241175522738998044041347220268898727815828293377024362251240460817370504474443789350862131275815962737802228670020792724881751262616664138343514750556963924471968620848997270\n",
        "x_2 = 67312899121549770522530234270387863557435404315495070469556115938394054317817419115572054466352907707907853455812249313130033288896689573045911386931552762451729767886819888810240751288319848590682985105811531183054550148246635446653158967225610490338324155804171152326966701236167492206434077146668054912887\n",
        "x_3 = 22541143333637160975172013904061258546661269636458162409626316077853008216231128312156250166056615153280075880736371404803766429361137624379413216975716020269434687493347756636246930374737262196486301113570737398881912154206997681790697277036687168500483510693166299378625347953173246406756015262720958435263"
      ]
    },
    {
      "cell_type": "code",
      "execution_count": null,
      "metadata": {
        "colab": {
          "base_uri": "https://localhost:8080/"
        },
        "id": "M-K2BF3fTNJ-",
        "outputId": "6bf9e56d-3635-4a58-e9be-3805664f0fa7"
      },
      "outputs": [
        {
          "data": {
            "text/plain": [
              "15688754573902041249610164097714828837223164301629995821076210648808249692178922431160569803083809565035211226733252981541201013723632138893512086259335360379565983635754789918588444591353332731124541949228912666414167851017038856249756539759170437489437313488235537606830041777974002784496312054465300062272"
            ]
          },
          "execution_count": 333,
          "metadata": {},
          "output_type": "execute_result"
        }
      ],
      "source": [
        "Frsa(pk, x_1)"
      ]
    },
    {
      "cell_type": "code",
      "execution_count": null,
      "metadata": {
        "colab": {
          "base_uri": "https://localhost:8080/"
        },
        "id": "9u_SWrI7TRSf",
        "outputId": "d827a532-5e4f-41e6-c847-71bd05fbd6c0"
      },
      "outputs": [
        {
          "data": {
            "text/plain": [
              "37419952409279681110852831536270351398189616380910798605629596672563869477537890922397868638184017161867293771024122665969941355158831891931386370181797029400808677725230563398507763490950150873746575222347894432829284283413541184531768843234352829075231570964669117344372913927702557349694521387002526264012"
            ]
          },
          "execution_count": 334,
          "metadata": {},
          "output_type": "execute_result"
        }
      ],
      "source": [
        "Frsa(pk, x_2)"
      ]
    },
    {
      "cell_type": "code",
      "execution_count": null,
      "metadata": {
        "colab": {
          "base_uri": "https://localhost:8080/"
        },
        "id": "vqK7A9lvTQ3F",
        "outputId": "a1ff4001-7a91-4f26-99f8-a53ecfe577c2"
      },
      "outputs": [
        {
          "data": {
            "text/plain": [
              "10538348603668101800058607543181397351687612436766450227192383175630594500088060494767543513802864119048470876225358937500138201955430579145715718496907416967961129694031815594119368430114320880637533039263238594672513635538626400582513079703655731668414915296673321646156130941413894226298397792182750906579"
            ]
          },
          "execution_count": 335,
          "metadata": {},
          "output_type": "execute_result"
        }
      ],
      "source": [
        "Frsa(pk, x_3)"
      ]
    },
    {
      "cell_type": "markdown",
      "metadata": {
        "id": "ZI3GWAdZ1I1G"
      },
      "source": [
        "3. (0.2/1.0) Utilizando los siguientes valores de $p$, $q$ y $e$ calcule $x_i = I_{RSA}(s_k, y_i)$ para los valores de $y_i$ dados."
      ]
    },
    {
      "cell_type": "code",
      "execution_count": null,
      "metadata": {
        "id": "ZMR3iA9e1IQi"
      },
      "outputs": [],
      "source": [
        "p = 102102126048317824065924553577456916119565919873414244244233048881467738552899\n",
        "q = 77241541738650712042367219526138773944765059798476911839747089409452893678661\n",
        "e = 65537"
      ]
    },
    {
      "cell_type": "code",
      "execution_count": null,
      "metadata": {
        "id": "odfJul50Taoo"
      },
      "outputs": [],
      "source": [
        "(sk, pk) = Grsa(p, q, e)"
      ]
    },
    {
      "cell_type": "code",
      "execution_count": null,
      "metadata": {
        "id": "y6TulNsY1jRL"
      },
      "outputs": [],
      "source": [
        "y_1 = 465226497757535535412484829718767503239439063443325604073247767333802396466573541046297726940717190995236120837293377439209858383193747316142252973261035\n",
        "y_2 = 7236726037695447336081346409304088808412601962504553299838586719968995212343427929731498358711442291289988518088175453632919500491278013068140557763687583"
      ]
    },
    {
      "cell_type": "code",
      "execution_count": null,
      "metadata": {
        "colab": {
          "base_uri": "https://localhost:8080/"
        },
        "id": "UDQiWIjRTb77",
        "outputId": "4746b6c0-36cf-4e54-9aa9-cebf07bda593"
      },
      "outputs": [
        {
          "data": {
            "text/plain": [
              "989766965947285484065497033371929173675810724220549669722260189710466489158017841381272278282673765745303041623862238837912797840443010812865920410133172"
            ]
          },
          "execution_count": 339,
          "metadata": {},
          "output_type": "execute_result"
        }
      ],
      "source": [
        "Irsa(sk, y_1)"
      ]
    },
    {
      "cell_type": "code",
      "execution_count": null,
      "metadata": {
        "colab": {
          "base_uri": "https://localhost:8080/"
        },
        "id": "Fg5Ef35dTez3",
        "outputId": "50660a22-1361-458b-e8d1-abd100cb4af3"
      },
      "outputs": [
        {
          "data": {
            "text/plain": [
              "4263389201381049132915142776155493777142154556019265922971859519327391594533333537597547120573512417768272649224269508834425044228672144357918053807226593"
            ]
          },
          "execution_count": 340,
          "metadata": {},
          "output_type": "execute_result"
        }
      ],
      "source": [
        "Irsa(sk, y_2)"
      ]
    },
    {
      "cell_type": "markdown",
      "metadata": {
        "id": "95bQkAggzU32"
      },
      "source": [
        "## **(1.0/5.0) Punto 2 - Esquema de Cifrado RSA OAEP**"
      ]
    },
    {
      "cell_type": "markdown",
      "metadata": {
        "id": "-3S2vkepVWYk"
      },
      "source": [
        "1. (1.0/1.0) Sea $l = 1024$ bits y $h = 128$ bits.\n",
        "  - Dados los valores $p$, $q$ y $e$ calcule el par de llaves RSA $(p_k, s_k)$.\n",
        "  - Cifre el mensaje $m$ utilizando los valores $r, d \\in \\mathcal{R}$ dados (en hexadecimal). Muestre el valor $x$ obtenido durante el proceso de cifrado y muestre el valor $y = F_{RSA}(p_k, x)$ obtenido al finalizar.\n",
        "    - **Nota 1:** Recuerde utilizar los códigos ASCII de cada uno de los carácteres para codificar el mensaje $m$.\n",
        "    - **Nota 2:** Para las funciones $H$ y $W$ utilice la función hash `SHAKE128` de la librería `pycryptodome`. Para instalarla en el Google colab ejecute `!pip install pycryptodome` en una celda"
      ]
    },
    {
      "cell_type": "code",
      "execution_count": null,
      "metadata": {
        "id": "owpkaAYezryW"
      },
      "outputs": [],
      "source": [
        "l = 1024\n",
        "h = 128\n",
        "\n",
        "p = 152877714074817582799594060573922352932837948563160266736492026333108693655783904622376811857378895257746079731072175805487307050879698253282990457710103020470521799405109815310314440243366045576457650600881729375721941744196962605128364324031423421727666391141134615217379142960243197138173392363904056397897\n",
        "q = 95707244915825118014408217076464856517146448223720277861643490381267273874375548164519738117636281315821357090252478883391357902985886067820869059905003566449634076994677760198992650018040494373202259885914122530903304413803229396296150957650550965120836040044529439953718751000249785634995114271241679683631\n",
        "e = 65537\n",
        "\n",
        "r = '9023ab9a87979dbf7da351047df6dfca'\n",
        "d = 'fc85b53162816fa2de19bfce6aae91dc'\n",
        "m = 'The most important words a man can say are, \"I will do better.\"'"
      ]
    },
    {
      "cell_type": "code",
      "execution_count": null,
      "metadata": {
        "id": "LW7GBV-lgwCr"
      },
      "outputs": [],
      "source": [
        "class OAEP:\n",
        "  def __init__(self, l: int, h:int, d:int = None):\n",
        "    self.l = l\n",
        "    self.t = 2* l\n",
        "    self.h = h\n",
        "    self.d = d\n",
        "\n",
        "  def H(self, data):\n",
        "      shake  = SHAKE128.new(data.to_bytes((self.t - self.h - 8) // 8, 'big'))\n",
        "      return int(shake.read(self.h // 8).hex(), 16)\n",
        "\n",
        "  def W(self, data):\n",
        "    shake  = SHAKE128.new(data.to_bytes(self.h // 8, 'big'))\n",
        "    return int(shake.read((self.t - self.h - 8) // 8).hex(), 16)\n",
        "\n",
        "  def G(self, p: int, q: int, e: int):\n",
        "      n = p*q;\n",
        "      d = inverso_multiplicativo(e, (p-1)*(q-1))\n",
        "      p_k = (n, e)\n",
        "      s_k = (n, d)\n",
        "      print(\"pk: \",p_k)\n",
        "      print(\"sk: \",s_k)\n",
        "      return s_k, p_k\n",
        "\n",
        "  def E(self, pk: int, m: int, r: int, d: int):\n",
        "      d_len = len((bin(self.d)[2:]))\n",
        "      m_len = len((bin(m)[2:]))\n",
        "\n",
        "      if self.d is not None:\n",
        "          pad = bin(self.d)[2:] + \"0\" * (self.t - h - 8 - m_len -d_len - 2) + \"01\"\n",
        "      else:\n",
        "          pad = \"0\" * (self.t - self.h - 8 - m_len - 2) + \"01\"\n",
        "\n",
        "      z = int(pad + bin(m)[2:], 2)\n",
        "\n",
        "      z_ = self.W(r) ^ z\n",
        "      r_ = self.H(z_) ^ r\n",
        "\n",
        "      x = r_ << (self.t - self.h - 8) | z_\n",
        "\n",
        "      print(f\"x = {x}\")\n",
        "      assert(len(bin(x)[2:]) == self.t - 8)\n",
        "\n",
        "      return Frsa(pk, x)\n",
        "\n",
        "  def D(self, sk: int, y: int):\n",
        "      x = Irsa(sk, y)\n",
        "      r_ = x >> (self.t - self.h - 8)\n",
        "      z_ = x ^ (r_ << (self.t - self.h - 8))\n",
        "      r = self.H(z_) ^ r_\n",
        "      z = self.W(r) ^ z_\n",
        "      m = int(bin(z ^ (self.d << (self.t - 2*self.h - 8)))[3:], 2)\n",
        "      return m"
      ]
    },
    {
      "cell_type": "code",
      "execution_count": null,
      "metadata": {
        "colab": {
          "base_uri": "https://localhost:8080/"
        },
        "id": "obmcGOenKlfT",
        "outputId": "b477e35d-eae1-4a3e-8790-dac03b9404ea"
      },
      "outputs": [
        {
          "name": "stdout",
          "output_type": "stream",
          "text": [
            "pk:  (14631504823130051186833720742755865986201109031200407744262913239131644086378819662822722749445750464971609708368342090974693150723300153023544405954726420706226955306036357993279875921712718633586122632012349065235632975249854442530787243191557646147684498192494838443716840880731701679576837678605176870775259153318374088115049861127178688464979501616225632995573527515710443691799597194782946787284700383081020348504649240628948159205764900872238274483739142773303735745576652963062473835079886154910029813175353651787451025753344783946602728497349745849081126883180268498906598398497520267764522662368328413724007, 65537)\n",
            "sk:  (14631504823130051186833720742755865986201109031200407744262913239131644086378819662822722749445750464971609708368342090974693150723300153023544405954726420706226955306036357993279875921712718633586122632012349065235632975249854442530787243191557646147684498192494838443716840880731701679576837678605176870775259153318374088115049861127178688464979501616225632995573527515710443691799597194782946787284700383081020348504649240628948159205764900872238274483739142773303735745576652963062473835079886154910029813175353651787451025753344783946602728497349745849081126883180268498906598398497520267764522662368328413724007, 10066150258102869339639574604412415667269414285041487775963596626729443956339902970190135699330301920512686551580203674227794448629204225086982470599610980923789019345386076707829211675209165170073868154358191474332731427866173872847828481941818379686387821452053149758919464144383035008144413953231765487427005760199396993863574261925439553946767701792728603239537642468387852687060140209517034852065536820284847290568346719118449934492418578583968575033837382601761796376725307941986926197268346260575448344788771138151375143054990264455562434616598692031816295700009654472422391118735454571092515314611558975380993)\n"
          ]
        }
      ],
      "source": [
        "d_int = int(d, 16)\n",
        "r_int = int(r,16)\n",
        "\n",
        "oaep = OAEP(l, h, d=d_int)\n",
        "sk, pk = oaep.G(p, q,e)"
      ]
    },
    {
      "cell_type": "code",
      "execution_count": null,
      "metadata": {
        "colab": {
          "base_uri": "https://localhost:8080/"
        },
        "id": "fRzON1i5Lirm",
        "outputId": "8c73cdd0-6797-4a89-d7f3-91c6aafaf9ac"
      },
      "outputs": [
        {
          "name": "stdout",
          "output_type": "stream",
          "text": [
            "x = 76606949982072022213228453103039195831791871840428368239486166661195679522808379491592189886164371796782836550451743624374909803784800773299239507459989125734446663492112522165798803697196132021406957500455060843065543813573360844395129652306555271639952286434482355065408995864321273652521209804758226511415205852720391704268208476455046012517392601359078616556128929904725493768201692887875787788320031774551034964745411498046120522016397038413303308813150026415023612725484780388270320524293546591595286670544715410072625443236577608103334001729278489744849367165094985770051792453103253743293083469242089590577\n",
            "y=  3034227632101922780403617600835755034516202341808863504048261605282515389255901283361768015818127802681356278875139950713964429062782047234605150325854408051435500446243392849331705314500483651205517275301496968860290009453630805628121063027935514958344977818529951105810150696422464399497941845533456603233807700547667209373405752400203598812897697231956972173183925956837152013030261212053083803109616246281546845944308002750332619224633577168731149938765956109486589144025232021677186027810230174918724714168816700548465394509859081630709174763619899089506651657366224012389575782848452802898991162600996284226520\n"
          ]
        }
      ],
      "source": [
        "c = oaep.E(pk, str_to_int(m), r_int, d_int)\n",
        "print(\"y= \",c)"
      ]
    },
    {
      "cell_type": "markdown",
      "metadata": {
        "id": "hxKePcol3IsJ"
      },
      "source": [
        "---\n",
        "\n",
        "## **(1.0/5.0) Punto 3 - Problema del Logaritmo Discreto**"
      ]
    },
    {
      "cell_type": "markdown",
      "metadata": {
        "id": "sBuBj8zi-Bxp"
      },
      "source": [
        "1. (1.0/1.0) Dados los valores de $p$, $g$ y $y$ calcular el valor $x$ utilizando el algoritmo de **\"paso de bebe, paso de gigante\"**. Adicionalmente, para cada caso de prueba (hay 5) debe mostrar los valores de $m$, $i_x$ y $j_x$."
      ]
    },
    {
      "cell_type": "markdown",
      "metadata": {
        "id": "_y2ggXJSTuUU"
      },
      "source": [
        "### Codigo pasos de bebe, pasos de gigante"
      ]
    },
    {
      "cell_type": "code",
      "execution_count": null,
      "metadata": {
        "id": "nJlRQnt5T2-t"
      },
      "outputs": [],
      "source": [
        "def paso_bebe_paso_gigante(\n",
        "            g: int,\n",
        "            y: int,\n",
        "            n: int,\n",
        "            debug_log = False\n",
        "        ) -> int:\n",
        "\n",
        "        m = ceil(sqrt(n))\n",
        "        if debug_log: print(\"m = \", m)\n",
        "\n",
        "        # lookup es una tabla hash para almacenar tuplas (a, b) \\in G X Z\n",
        "        # a es usada como clave indice\n",
        "        lookup = {}\n",
        "\n",
        "        # Computar (g**j, j) para todo 0 <= j <= m\n",
        "        for j in range(m):\n",
        "            lookup[pow(g, j, n)] =  j\n",
        "\n",
        "        b = pow(g, m * (n - 2), n)\n",
        "\n",
        "        _y = y\n",
        "        x = None\n",
        "\n",
        "        # Computar y * (g*{-m})i para i = 0, 1, 2, ... hasta entonces i_x con y * (g{-m})*i_x\n",
        "        for i in range(m):\n",
        "            if _y in lookup:\n",
        "                x = (i * m + lookup[_y]) % n\n",
        "                if debug_log: print(f\"ix = {i} | jx = {lookup[_y]}\")\n",
        "                string = ''\n",
        "                return f'm = {m}\\nix = {i}\\njx = {lookup[_y]}\\nx = {x}'\n",
        "\n",
        "            _y = (_y * b) % n\n",
        "        return f'm = {m}\\nix = {i}\\njx = {lookup[_y]}\\nx = {x}'"
      ]
    },
    {
      "cell_type": "markdown",
      "metadata": {
        "id": "5KIKGseOTx28"
      },
      "source": [
        "### Resultados"
      ]
    },
    {
      "cell_type": "code",
      "execution_count": null,
      "metadata": {
        "id": "ozFQ-N8jYlAw"
      },
      "outputs": [],
      "source": [
        "# Caso de Prueba 1\n",
        "p = 1008944727839\n",
        "g = 436852493433\n",
        "y = 80867817509"
      ]
    },
    {
      "cell_type": "code",
      "execution_count": null,
      "metadata": {
        "colab": {
          "base_uri": "https://localhost:8080/",
          "height": 35
        },
        "id": "CIvAw4OHUG9J",
        "outputId": "df842b57-3b55-49c0-dd1a-13b9e5171351"
      },
      "outputs": [
        {
          "data": {
            "application/vnd.google.colaboratory.intrinsic+json": {
              "type": "string"
            },
            "text/plain": [
              "'m = 1004463\\nix = 953472\\njx = 151723\\nx = 957727497259'"
            ]
          },
          "execution_count": 347,
          "metadata": {},
          "output_type": "execute_result"
        }
      ],
      "source": [
        "paso_bebe_paso_gigante(g, y, p)"
      ]
    },
    {
      "cell_type": "code",
      "execution_count": null,
      "metadata": {
        "id": "WvHmhU04Yk1o"
      },
      "outputs": [],
      "source": [
        "# Caso de Prueba 2\n",
        "p = 1008944727839\n",
        "g = 436852493433\n",
        "y = 126340966889"
      ]
    },
    {
      "cell_type": "code",
      "execution_count": null,
      "metadata": {
        "colab": {
          "base_uri": "https://localhost:8080/",
          "height": 35
        },
        "id": "_0LmONI1UQ_v",
        "outputId": "7b1d4873-dda8-4941-c1f5-475c8bcd9dab"
      },
      "outputs": [
        {
          "data": {
            "application/vnd.google.colaboratory.intrinsic+json": {
              "type": "string"
            },
            "text/plain": [
              "'m = 1004463\\nix = 108489\\njx = 436069\\nx = 108973622476'"
            ]
          },
          "execution_count": 349,
          "metadata": {},
          "output_type": "execute_result"
        }
      ],
      "source": [
        "paso_bebe_paso_gigante(g, y, p)"
      ]
    },
    {
      "cell_type": "code",
      "execution_count": null,
      "metadata": {
        "id": "SYra__3mYkzL"
      },
      "outputs": [],
      "source": [
        "# Caso de Prueba 3\n",
        "p = 1008944727839\n",
        "g = 436852493433\n",
        "y = 164854993923"
      ]
    },
    {
      "cell_type": "code",
      "execution_count": null,
      "metadata": {
        "colab": {
          "base_uri": "https://localhost:8080/",
          "height": 35
        },
        "id": "I0H7cSmEURfM",
        "outputId": "a28cef1c-712f-4fa3-fbf6-23d7e016cbac"
      },
      "outputs": [
        {
          "data": {
            "application/vnd.google.colaboratory.intrinsic+json": {
              "type": "string"
            },
            "text/plain": [
              "'m = 1004463\\nix = 703055\\njx = 300431\\nx = 706193034896'"
            ]
          },
          "execution_count": 351,
          "metadata": {},
          "output_type": "execute_result"
        }
      ],
      "source": [
        "paso_bebe_paso_gigante(g, y, p)"
      ]
    },
    {
      "cell_type": "code",
      "execution_count": null,
      "metadata": {
        "id": "sPwkW0sjYkws"
      },
      "outputs": [],
      "source": [
        "# Caso de Prueba 4\n",
        "p = 1008944727839\n",
        "g = 436852493433\n",
        "y = 910144022518"
      ]
    },
    {
      "cell_type": "code",
      "execution_count": null,
      "metadata": {
        "colab": {
          "base_uri": "https://localhost:8080/",
          "height": 35
        },
        "id": "9y_p-MRcUR6O",
        "outputId": "24718c16-b3d9-4639-fbf0-e2b965f10f41"
      },
      "outputs": [
        {
          "data": {
            "application/vnd.google.colaboratory.intrinsic+json": {
              "type": "string"
            },
            "text/plain": [
              "'m = 1004463\\nix = 908662\\njx = 155087\\nx = 912717513593'"
            ]
          },
          "execution_count": 353,
          "metadata": {},
          "output_type": "execute_result"
        }
      ],
      "source": [
        "paso_bebe_paso_gigante(g, y, p)"
      ]
    },
    {
      "cell_type": "code",
      "execution_count": null,
      "metadata": {
        "id": "vApeGUndYkuC"
      },
      "outputs": [],
      "source": [
        "# Caso de Prueba 5\n",
        "p = 1008944727839\n",
        "g = 436852493433\n",
        "y = 49545259835"
      ]
    },
    {
      "cell_type": "code",
      "execution_count": null,
      "metadata": {
        "colab": {
          "base_uri": "https://localhost:8080/",
          "height": 35
        },
        "id": "LyXM-po-USkO",
        "outputId": "575f6461-0f2a-454e-ee35-82964d7b1618"
      },
      "outputs": [
        {
          "data": {
            "application/vnd.google.colaboratory.intrinsic+json": {
              "type": "string"
            },
            "text/plain": [
              "'m = 1004463\\nix = 439574\\njx = 605329\\nx = 441536424091'"
            ]
          },
          "execution_count": 355,
          "metadata": {},
          "output_type": "execute_result"
        }
      ],
      "source": [
        "paso_bebe_paso_gigante(g, y, p)"
      ]
    },
    {
      "cell_type": "markdown",
      "metadata": {
        "id": "SyO0ksfX3W9K"
      },
      "source": [
        "---\n",
        "\n",
        "## **(1.0/5.0) Punto 4 - Esquema de Cifrado ElGamal**"
      ]
    },
    {
      "cell_type": "markdown",
      "metadata": {
        "id": "OdqT6B7jDBTT"
      },
      "source": [
        "1. (0.2/1.0) Dado un valor $\\alpha$, un número primo $p$ y un elemento generador $g$ calcular y mostrar $(p_k, s_k)$ resultantes de la generación de llaves de ElGamal utilizando los valores dados."
      ]
    },
    {
      "cell_type": "markdown",
      "metadata": {
        "id": "qwM7V9tgUlCN"
      },
      "source": [
        "### Codigo ElGamal"
      ]
    },
    {
      "cell_type": "code",
      "execution_count": null,
      "metadata": {
        "id": "s-srMcuJUkwa"
      },
      "outputs": [],
      "source": [
        "def Gen(alpha, q, g):\n",
        "    if not isprime(q):\n",
        "        raise ValueError(\"q debe ser un número primo.\")\n",
        "    u = pow(g, alpha, q)\n",
        "    pk = u\n",
        "    sk = alpha\n",
        "    return pk, sk"
      ]
    },
    {
      "cell_type": "code",
      "execution_count": null,
      "metadata": {
        "id": "1zvDpTTSU59d"
      },
      "outputs": [],
      "source": [
        "def Enc(pk, m, q, g, beta):\n",
        "    if isinstance(m, int):\n",
        "        m = str(m)\n",
        "\n",
        "    # Convertir el mensaje completo a un número entero\n",
        "    m_int = int.from_bytes(m.encode(), 'big')\n",
        "    if not (1 < m_int < q):\n",
        "        raise ValueError(f\"El valor entero del mensaje '{m}' ({m_int}) debe estar en el rango de 1 a q-1.\")\n",
        "\n",
        "    v = pow(g, beta, q)\n",
        "    c = (m_int * pow(pk, beta, q)) % q\n",
        "\n",
        "    return v, c"
      ]
    },
    {
      "cell_type": "code",
      "execution_count": null,
      "metadata": {
        "id": "uN4-v28DZjfy"
      },
      "outputs": [],
      "source": [
        "def Dec(sk, vc, q):\n",
        "    (v, c) = vc\n",
        "\n",
        "    w = pow(mod_inverse(v, q), sk, q)\n",
        "    m_int = (c * w) % q\n",
        "    try:\n",
        "        # Calculamos el número de bytes a partir del valor máximo esperado en el cifrado\n",
        "        num_bytes = max(1, (m_int.bit_length() + 7) // 8)\n",
        "        m_bytes = m_int.to_bytes(num_bytes, byteorder='big')\n",
        "        m = m_bytes.decode('utf-8', errors='ignore')  # Ignorar caracteres no decodificables\n",
        "    except (ValueError, UnicodeDecodeError, OverflowError) as e:\n",
        "        m = (f\"<cannot decode {m_int}: {str(e)}>\")\n",
        "\n",
        "    return m"
      ]
    },
    {
      "cell_type": "markdown",
      "metadata": {
        "id": "4o9OT6UqUn7z"
      },
      "source": [
        "### Resultados"
      ]
    },
    {
      "cell_type": "code",
      "execution_count": null,
      "metadata": {
        "id": "CjUYTRUgEI1N"
      },
      "outputs": [],
      "source": [
        "alpha = 44235728213098551077425602704492607016359920981613272052626024323091463300482880298541827967837430887576328472751910496011121592139764866532359692545249145346708241664924261327829449535530913639968563645084107647986106025250782392055385273661543061358700959794349801873828534525091734163432712627959693466322\n",
        "p = 164502193028554071572773380673262121890970567103098787083558972687654868443151285432627053033053072000260424623411579165922995742644281638505768536442810062575979476066397674879391609594727231903485090135678243649110521956763797073399979304867490513217414015789052165354717083683136329248045988596838745639543\n",
        "g = 95397605525288378204358698941767152376570780885616886203054870846705451384086811730296287946254767796802429470762715340386221298673197168854676481382299540380875518199684563702117074297547557764819044408561171097263130974134719766490187777579363041095603026258899214230765139858647550712580831085114196512019"
      ]
    },
    {
      "cell_type": "code",
      "execution_count": null,
      "metadata": {
        "colab": {
          "base_uri": "https://localhost:8080/"
        },
        "id": "JHnJJxExUy1N",
        "outputId": "98e6df10-4efc-4a94-a4b4-9c2dc68c30c8"
      },
      "outputs": [
        {
          "name": "stdout",
          "output_type": "stream",
          "text": [
            "pk: 151158474933645961056109203843546757663499349704994753032344462176590045612277469424010507152938599881054324718700860339186411908384908868449443799062361609175755141536941336196209556949397507910519810299535179497103191237214847709868371078477624111558133485226442862166925545186872364562429628724456449964320\n",
            "sk: 44235728213098551077425602704492607016359920981613272052626024323091463300482880298541827967837430887576328472751910496011121592139764866532359692545249145346708241664924261327829449535530913639968563645084107647986106025250782392055385273661543061358700959794349801873828534525091734163432712627959693466322\n"
          ]
        }
      ],
      "source": [
        "(pk, sk) = Gen(alpha, p, g)\n",
        "print(f'pk: {pk}')\n",
        "print(f'sk: {sk}')"
      ]
    },
    {
      "cell_type": "markdown",
      "metadata": {
        "id": "KCN0v3ncEJYq"
      },
      "source": [
        "2. (0.4/1.0) Dado un valor $\\beta$ y un mensaje $m$:\n",
        "  - Codificar el mensaje $m$ como un número entero de $\\mathbb{F}_{p}^*$.\n",
        "    - **Nota:** Para ello utilice los códigos ASCII de cada uno de los carácteres.\n",
        "  - Calcular y mostrar $(v, c) = E(p_k, M)$ con ElGamal, utilizando el $\\beta$ dado y el valor $p_k$ generado en el inciso **1**."
      ]
    },
    {
      "cell_type": "code",
      "execution_count": null,
      "metadata": {
        "id": "Y5M1tmV_Fg0t"
      },
      "outputs": [],
      "source": [
        "beta = 1674435797287954221334632204181841546464330290107923623942210552236484222083679006606991338204875162921537505044334242829398146213680515911546561003532481053511340400893917420383849309918369182487491981623929321347161779516300860326491830199554475284283107612032924929697179442226013402267076722291886004976\n",
        "m = 'Life before death. Strength before weakness. Journey before destination.'"
      ]
    },
    {
      "cell_type": "code",
      "execution_count": null,
      "metadata": {
        "colab": {
          "base_uri": "https://localhost:8080/"
        },
        "id": "1xsJnadiZoQ8",
        "outputId": "52d36f89-e434-49e3-f355-280d8a5e630b"
      },
      "outputs": [
        {
          "name": "stdout",
          "output_type": "stream",
          "text": [
            "v: 137324271447635478843236577542990771979838039824420694674021920547730751754425432321313309992680135519515605301538107016710226681685115428635282089812718284963444098237424833170677882254583336632211906092922856390084574044180218711378866290635852995765592960407861997390351515894469542331753318177126039703612\n",
            "c: 152385699516201214510197269090045156436382590334250371152843210082653800689842726846861192029855516501633488476592129373700810649348816715973725825739986780641546606500453649319868883209011495566645862720015543862738854028605223425278648895645016205980082904785954296959241192245343234216618341378041326876886\n"
          ]
        }
      ],
      "source": [
        "(v, c) = Enc(pk, m, p, g, beta)\n",
        "print(f'v: {v}')\n",
        "print(f'c: {c}')"
      ]
    },
    {
      "cell_type": "markdown",
      "metadata": {
        "id": "TA87cJswFXUu"
      },
      "source": [
        "3. (0.4/1.0) Dado un texto cifrado $(v, c)$ con $v, c \\in \\mathbb{F}_{p}^*$:\n",
        "  - Calcular $m = D(s_k, (v, c))$ con ElGamal, utilizando el valor $s_k$ generado en el inciso **1**.\n",
        "  - Decodificar el número entero $m$ como una cadena de carácteres y mostrarla.\n",
        "    - **Nota:** Para ello convierta cada byte al correspondiente carácter utilizando el código ASCII."
      ]
    },
    {
      "cell_type": "code",
      "execution_count": null,
      "metadata": {
        "id": "zeY5WWJFNsTz"
      },
      "outputs": [],
      "source": [
        "v = 68061151581036716434892324158377054048188900523743874908698489105996914990262896768661881977846983773615022889533546058949562336174880904867521755870011084531901642697261435243761191875894067201992544525538048936053049390566477867608723507254180676340229106077392911507852355248583584948033867168598534756719\n",
        "c = 69523011344786145101642032657815987921375318089731095568525610125234911341233953139836192784196094382143519342081211985332724352226158981239211946140210134621812415803764373047141297119036512929506081105143907943930942609377564301739840067655863765775883975776264774278146988355265292896498243587261096438860"
      ]
    },
    {
      "cell_type": "code",
      "execution_count": null,
      "metadata": {
        "colab": {
          "base_uri": "https://localhost:8080/",
          "height": 35
        },
        "id": "Fh_8oFVmZmRx",
        "outputId": "b2667d5c-f62b-4f82-fcfd-c09fca325621"
      },
      "outputs": [
        {
          "data": {
            "application/vnd.google.colaboratory.intrinsic+json": {
              "type": "string"
            },
            "text/plain": [
              "\"There's always another secret.\""
            ]
          },
          "execution_count": 364,
          "metadata": {},
          "output_type": "execute_result"
        }
      ],
      "source": [
        "Dec(sk, (v, c), p)"
      ]
    },
    {
      "cell_type": "markdown",
      "metadata": {
        "id": "pTaGxRMOrbbo"
      },
      "source": [
        "---\n",
        "\n",
        "## **(1.0/5.0) Punto 5 - Curvas Elípticas**"
      ]
    },
    {
      "cell_type": "markdown",
      "metadata": {
        "id": "AbgINHowcKIE"
      },
      "source": [
        "### Codigo CE"
      ]
    },
    {
      "cell_type": "code",
      "execution_count": null,
      "metadata": {
        "id": "00sDmxicEqic"
      },
      "outputs": [],
      "source": [
        "def inv(y, p):\n",
        "    return abs(y) * (p - 1) % p"
      ]
    },
    {
      "cell_type": "code",
      "execution_count": null,
      "metadata": {
        "id": "jest2M1UEr4H"
      },
      "outputs": [],
      "source": [
        "class EllipticCurve:\n",
        "\n",
        "    def __init__(self, a: int, b: int, p: int, G: Tuple[int, int] = None) -> None:\n",
        "        self.a = a\n",
        "        self.b = b\n",
        "        self.p = p\n",
        "        self.I = (None, None)\n",
        "        self.G = G\n",
        "\n",
        "        assert(((4 * a ** 3) + (27 * b ** 2)) % p != 0), \"No es una curva valida\"\n",
        "\n",
        "\n",
        "    def __contains__(self, point: Tuple[int, int]) -> bool:\n",
        "        x, y = point\n",
        "\n",
        "        if x == y == None: return True\n",
        "        return pow(y, 2, self.p) == (x**3 + self.a * x + self.b) % self.p\n",
        "\n",
        "\n",
        "    def __iter__(self):\n",
        "        yield self.I\n",
        "\n",
        "        for x in range(0, self.p):\n",
        "            for y in range(0, self.p):\n",
        "                if (x, y) in self:\n",
        "                    yield (x, y)\n",
        "                    y_inv = y * (self.p - 1) % self.p\n",
        "                    if y_inv != y:\n",
        "                        yield (x, y_inv)\n",
        "                    break\n",
        "\n",
        "\n",
        "    def __len__(self):\n",
        "        return len([p for p in self])\n",
        "\n",
        "\n",
        "    def hasse(self):\n",
        "        \"\"\"Teorema de Hasse. Define el intervalo\n",
        "\n",
        "        p + 1 - 2 raiz(p), p + 1+ 2*raiz(p)\n",
        "        \"\"\"\n",
        "\n",
        "        lower = self.p + 1 - 2 * math.sqrt(self.p)\n",
        "        upper = self.p + 1 + 2 * math.sqrt(self.p)\n",
        "\n",
        "        return lower <= len(self) <= upper, (lower, upper)\n",
        "\n",
        "    def add(self, P: Tuple[int, int], Q: Tuple[int, int] = None) -> Tuple[int, int]:\n",
        "        \"\"\"Adición de puntos en la curva P-256.\"\"\"\n",
        "        Q = P if Q is None else Q\n",
        "\n",
        "        if not (P in self and Q in self):\n",
        "            raise ValueError(\"One or more points are not on the curve\")\n",
        "\n",
        "        # Identidad\n",
        "        if P == (None, None):  # P es el punto en el infinito\n",
        "            return Q\n",
        "\n",
        "        if Q == (None, None):  # Q es el punto en el infinito\n",
        "            return P\n",
        "\n",
        "        x1, y1 = P\n",
        "        x2, y2 = Q\n",
        "\n",
        "        # Inverso aditivo: P + (-P) = I\n",
        "        if x1 == x2 and (y1 == -y2 % self.p):\n",
        "            return (None, None)  # Retorna el punto en el infinito\n",
        "\n",
        "        # Pendiente de la recta que pasa por P y Q\n",
        "        if x1 != x2:\n",
        "            # Caso general: P + Q\n",
        "            s = ((y2 - y1) * pow(x2 - x1, -1, self.p)) % self.p\n",
        "            x3 = (s ** 2 - x1 - x2) % self.p\n",
        "        else:\n",
        "            # Caso especial: P = Q\n",
        "            s = ((3 * x1 ** 2 + self.a) * pow(2 * y1, -1, self.p)) % self.p\n",
        "            x3 = (s ** 2 - 2 * x1) % self.p\n",
        "\n",
        "        y3 = (s * (x1 - x3) - y1) % self.p\n",
        "\n",
        "        return (x3, y3)\n",
        "\n",
        "    def mult(self, k: int, P: Tuple[int, int]) -> Tuple[int, int]:\n",
        "        Q = P if k >= 0 else (P[0], inv(P[1]))\n",
        "        # Inicialización de T\n",
        "        T = Q if k & 1 else self.I\n",
        "        k >>= 1\n",
        "\n",
        "        # Multiplicación a escalar\n",
        "        while k:\n",
        "            Q = self.add(Q, Q)\n",
        "            if k & 1:\n",
        "                T = self.add(T, Q)\n",
        "            k >>= 1\n",
        "\n",
        "        return T"
      ]
    },
    {
      "cell_type": "code",
      "execution_count": null,
      "metadata": {
        "id": "uzLGYp-fE4W-"
      },
      "outputs": [],
      "source": [
        "class CurveP256(EllipticCurve):\n",
        "\n",
        "    def __init__(self) -> None:\n",
        "        a = -3\n",
        "        b = 41058363725152142129326129780047268409114441015993725554835256314039467401291\n",
        "        p = 2**256 - 2**224 + 2**192 + 2**96 - 1\n",
        "\n",
        "        x = 48439561293906451759052585252797914202762949526041747995844080717082404635286\n",
        "        y = 36134250956749795798585127919587881956611106672985015071877198253568414405109\n",
        "\n",
        "        G = (x, y)\n",
        "\n",
        "        super().__init__(a, b, p, G)\n",
        "\n",
        "        self.q = 2**256 - 2**224 + 2**192 - 89188191075325690597107910205041859247"
      ]
    },
    {
      "cell_type": "code",
      "execution_count": null,
      "metadata": {
        "id": "QZsD0GvXE7Pu"
      },
      "outputs": [],
      "source": [
        "class ElGamal_EllipticCurve:\n",
        "\n",
        "    def __init__(self, curve: EllipticCurve, q: int = None) -> None:\n",
        "        if (curve.G == None):\n",
        "            raise ValueError(\"La curva no tiene generador.\")\n",
        "\n",
        "        self.curve = curve\n",
        "        self.q = q\n",
        "\n",
        "\n",
        "    def G(self, a = None) -> Tuple[Tuple[int, int], int]:\n",
        "        a = random.randrange(2, self.q) if a == None else a\n",
        "        U = self.curve.mult(a, self.curve.G)\n",
        "        return U, a\n",
        "\n",
        "\n",
        "    def E(self, Pk: Tuple[int, int], M: Tuple[int, int], b: int = None, debug_log: bool = False):\n",
        "        b = random.randrange(2, self.q) if b == None else b\n",
        "        if debug_log: print(f\"beta = {b}\")\n",
        "\n",
        "        V = self.curve.mult(b, self.curve.G)\n",
        "        if debug_log: print(f\"v = {V}\")\n",
        "\n",
        "        W = self.curve.mult(b, Pk)\n",
        "\n",
        "        C = self.curve.add(M, W)\n",
        "        if debug_log: print(f\"c = {C}\")\n",
        "\n",
        "        return V, C\n",
        "\n",
        "\n",
        "    def D(self, sk: int, V: int, C: int) -> int:\n",
        "        W = self.curve.mult(sk, V)\n",
        "        M = self.curve.add(C, (W[0], inv(W[1], self.curve.p)))\n",
        "        return M"
      ]
    },
    {
      "cell_type": "markdown",
      "metadata": {
        "id": "2tUJJt_OcMa2"
      },
      "source": [
        "### Resultados"
      ]
    },
    {
      "cell_type": "markdown",
      "metadata": {
        "id": "Gov3Uh8Q-5-d"
      },
      "source": [
        "1. (0.2/1.0) Dado un valor $\\alpha$ calcular y mostrar $(P_k, s_k)$ resultantes de la generación de llaves de ElGamal sobre $P256$ utilizando el $\\alpha$ dado."
      ]
    },
    {
      "cell_type": "code",
      "execution_count": null,
      "metadata": {
        "id": "LZoxctTpCHyO"
      },
      "outputs": [],
      "source": [
        "alpha = 49394361616422599964014019193491345166895484294247844865706844939385217745368"
      ]
    },
    {
      "cell_type": "code",
      "execution_count": null,
      "metadata": {
        "colab": {
          "base_uri": "https://localhost:8080/"
        },
        "id": "XSk8trpRFC0o",
        "outputId": "8543c560-21fb-473f-ee53-3b8df8773e27"
      },
      "outputs": [
        {
          "name": "stdout",
          "output_type": "stream",
          "text": [
            "pk:  (68677399818840155869257022989655895277586582512705242417828956982031401999307, 113756524292626188620929808493976545588184792528036839155393362378026277880721)\n",
            "sk:  49394361616422599964014019193491345166895484294247844865706844939385217745368\n"
          ]
        }
      ],
      "source": [
        "q = 2**256 - 2**224 + 2**192 - 89188191075325690597107910205041859247\n",
        "curva = CurveP256()\n",
        "elgp256 = ElGamal_EllipticCurve(curva,q)\n",
        "\n",
        "pk, sk = elgp256.G(alpha)\n",
        "\n",
        "print(\"pk: \",pk)\n",
        "print(\"sk: \",sk)"
      ]
    },
    {
      "cell_type": "markdown",
      "metadata": {
        "id": "MeaQloAp_UqU"
      },
      "source": [
        "2. (0.4/1.0) Dado un valor $\\beta$ y un mensaje $m$ codificado a un punto $M \\in P256$ calcular y mostrar $(V, C) = E(P_k, M)$ con ElGamal sobre $P256$, utilizando el $\\beta$ dado y el valor $P_k$ generado en el inciso **1**."
      ]
    },
    {
      "cell_type": "code",
      "execution_count": null,
      "metadata": {
        "id": "ameo9i0TCIPM"
      },
      "outputs": [],
      "source": [
        "beta = 5050686223037428457163522873606705413769606780692729311451655228317041946908\n",
        "M = (10078325695723211088410985734864258926108196424648752194418952354939491493398, 83162779257944430915141041076225903572090104654488309266745131800763293112040)"
      ]
    },
    {
      "cell_type": "code",
      "execution_count": null,
      "metadata": {
        "colab": {
          "base_uri": "https://localhost:8080/"
        },
        "id": "yafA-NFNFHPT",
        "outputId": "74a097e8-befc-4c16-e8e3-df1dde7d4485"
      },
      "outputs": [
        {
          "name": "stdout",
          "output_type": "stream",
          "text": [
            "V=  (74908489895388468511849649995282655629932143737712590487860102964692691649425, 72008375640736892483560943835467645736580993997262279774865059571460281878070)\n",
            "C=  (18054726872265623170436504181994371252991018501766053811183174643253830905118, 85195715838013128159146729974992454908102647736397073998128753101600199273914)\n"
          ]
        }
      ],
      "source": [
        "(V, c) = elgp256.E(pk, M, b = beta)\n",
        "\n",
        "print(\"V= \",V)\n",
        "print(\"C= \",c)"
      ]
    },
    {
      "cell_type": "markdown",
      "metadata": {
        "id": "lWeBPyTKAgKu"
      },
      "source": [
        "3. (0.4/1.0) Dado un texto cifrado $(V, C)$ con $V, C \\in P256$ calcular y mostrar $M = D(s_k, (V, C))$ con ElGamal sobre $P256$, utilizando el valor $s_k$ generado en el inciso **1**."
      ]
    },
    {
      "cell_type": "code",
      "execution_count": null,
      "metadata": {
        "id": "R-98286wCI5M"
      },
      "outputs": [],
      "source": [
        "V = (2434004794767819467175582817230662459650825356676103469405545454429680318241, 79611261854144246365773278903523410292936278444189607530029777634984404802972)\n",
        "C = (66696184284133056663625569822082447378631654244235497519610873925850418397823, 26097515549380845956525349094006689605605092455559098522997977149154485710077)"
      ]
    },
    {
      "cell_type": "code",
      "execution_count": null,
      "metadata": {
        "colab": {
          "base_uri": "https://localhost:8080/"
        },
        "id": "pxksVQv9FKmM",
        "outputId": "c899ba19-9511-4a58-b865-45d3efb5f094"
      },
      "outputs": [
        {
          "name": "stdout",
          "output_type": "stream",
          "text": [
            "M=  (70080563902474660685014643574954286003305136526954517743428749117055603385364, 102817281760810435925299871406466683251351115534973220072977695964583963694190)\n"
          ]
        }
      ],
      "source": [
        "M = elgp256.D(sk, V, C)\n",
        "print(\"M= \",M)"
      ]
    }
  ],
  "metadata": {
    "colab": {
      "provenance": []
    },
    "kernelspec": {
      "display_name": "Python 3",
      "name": "python3"
    },
    "language_info": {
      "codemirror_mode": {
        "name": "ipython",
        "version": 3
      },
      "file_extension": ".py",
      "mimetype": "text/x-python",
      "name": "python",
      "nbconvert_exporter": "python",
      "pygments_lexer": "ipython3",
      "version": "3.12.3"
    }
  },
  "nbformat": 4,
  "nbformat_minor": 0
}
